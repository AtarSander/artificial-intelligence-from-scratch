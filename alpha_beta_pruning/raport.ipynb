{
 "cells": [
  {
   "cell_type": "markdown",
   "metadata": {},
   "source": [
    "# Raport z zadania dwuosobowe gry deterministyczne\n",
    "### Aleksander Szymczyk\n",
    "### Import bibliotek"
   ]
  },
  {
   "cell_type": "code",
   "execution_count": 1,
   "metadata": {},
   "outputs": [],
   "source": [
    "import sys\n",
    "sys.path.append(\"two-player-games\")\n",
    "from experiment import experiment, Option\n",
    "from tabulate import tabulate"
   ]
  },
  {
   "cell_type": "markdown",
   "metadata": {},
   "source": [
    "## Decyzje projektowe\n",
    "### Implementacja alpha-beta\n",
    "- Algorytm alpha-beta przegląda drzewo gry poprzez skopiowanie bieżącego stanu gry i wykonywanie dozwolonych ruchów na tej kopii. \n",
    "- W trakcie przeglądania drzewa wyniki równe najlepszemu dodawane są do listy wyników. Po przeglądnięciu wszystkich ścieżek algorytm losuje ruch spośród tych dostępnych na liście wyników. \n",
    "- W węzłach terminalnych, w których rozgrywka się zakończyła, zwracana jest -inf jeśli wygrał min, inf jeśli wygrał max lub 0 jeśli zremisowano. \n",
    "- W węzłach kończących przeszukiwanie z powodu głębokości = 0 zwracany jest wynik funkcji heurystycznej.\n",
    "### Heurystyka\n",
    "Heurystyka do gry Connect Four polega na przeglądaniu każdego rzędu, kolumny, przekątnych. Algorytm przechodzi wzdłuż np. rzędu, sprawdzając, ile pól zajętych przez graczy jest na czterech kolejnych polach. Jeśli w jednej czwórce są pola zajęte przez różnych graczy, przeglądanie tej czwórki jest przerywane, a jej wynikiem jest 0 (nie jest możliwa wygrywająca kombinacja dla nikogo). Jeśli w jednej czwórce pól są pola zajęte przez tylko jednego z graczy oraz pola puste to do wyniku dodawane lub odejmowane (w zależności czy to gracz min czy max) są punkty, zależne od liczby zajętych pól (jedno - najmniej, dwa - więcej, trzy - najwięcej). Punkty z czwórek wzdłuż wszystkich osi są sumowane i zwracane jako wynik heurystyki.\n",
    "# Eksperymenty"
   ]
  },
  {
   "cell_type": "markdown",
   "metadata": {},
   "source": [
    "## Rezultaty rozgrywki w przypadku losowych ruchów obydwu graczy"
   ]
  },
  {
   "cell_type": "code",
   "execution_count": 2,
   "metadata": {},
   "outputs": [
    {
     "name": "stdout",
     "output_type": "stream",
     "text": [
      "╒═══════════════════╤═════════════════╤═════════════════╤═════════╕\n",
      "│   Number of games │   Player 1 wins │   Player 2 wins │   Draws │\n",
      "╞═══════════════════╪═════════════════╪═════════════════╪═════════╡\n",
      "│              1000 │             579 │             420 │       1 │\n",
      "╘═══════════════════╧═════════════════╧═════════════════╧═════════╛\n"
     ]
    }
   ],
   "source": [
    "random_results = experiment(Option.RAND_VS_RAND.value, 1000)\n",
    "print(tabulate(random_results, headers=\"keys\", tablefmt=\"fancy_grid\"))"
   ]
  },
  {
   "cell_type": "markdown",
   "metadata": {},
   "source": [
    "Jak widać kolejność ruchów w przypadku graczy losowych ma niewielki wpływ na wynik. Zawodnik rozpoczynający rozgrywkę ma delikatną przewagę.\n",
    "# Cel eksperymentów\n",
    "Aby sprawdzić jakość działania algorytmu alpha-beta zostanie on przetestowany na 100 rozgrywkach dla trzech wariantów graczy:\n",
    "- gracz algorytm vs gracz losowy\n",
    "- gracz losowy vs gracz algorytm\n",
    "- gracz algorytm vs gracz algorytm"
   ]
  },
  {
   "cell_type": "markdown",
   "metadata": {},
   "source": [
    "Oraz dla trzech różnych głębokości przeszukiwania:\n",
    "- głębokość 2\n",
    "- głębokość 3\n",
    "- głębokość 4\n",
    "## Testy dla rozgrywki algorytm alphabeta (player 1) vs gracz losowy"
   ]
  },
  {
   "cell_type": "code",
   "execution_count": 3,
   "metadata": {},
   "outputs": [
    {
     "name": "stdout",
     "output_type": "stream",
     "text": [
      "╒═══════════════════╤═════════════════╤═════════════════╤═════════╤══════════╕\n",
      "│   Number of games │   Player 1 wins │   Player 2 wins │   Draws │   Depths │\n",
      "╞═══════════════════╪═════════════════╪═════════════════╪═════════╪══════════╡\n",
      "│               100 │             100 │               0 │       0 │        2 │\n",
      "├───────────────────┼─────────────────┼─────────────────┼─────────┼──────────┤\n",
      "│               100 │             100 │               0 │       0 │        3 │\n",
      "├───────────────────┼─────────────────┼─────────────────┼─────────┼──────────┤\n",
      "│               100 │             100 │               0 │       0 │        4 │\n",
      "╘═══════════════════╧═════════════════╧═════════════════╧═════════╧══════════╛\n"
     ]
    }
   ],
   "source": [
    "results = experiment(Option.ALGO_VS_RAND.value, 100, [2, 3, 4])\n",
    "print(tabulate(results, headers=\"keys\", tablefmt=\"fancy_grid\"))"
   ]
  },
  {
   "cell_type": "markdown",
   "metadata": {},
   "source": [
    "## Testy dla rozgrywki gracz losowy vs alogrytm alphabeta (player 2)"
   ]
  },
  {
   "cell_type": "code",
   "execution_count": 4,
   "metadata": {},
   "outputs": [
    {
     "name": "stdout",
     "output_type": "stream",
     "text": [
      "╒═══════════════════╤═════════════════╤═════════════════╤═════════╤══════════╕\n",
      "│   Number of games │   Player 1 wins │   Player 2 wins │   Draws │   Depths │\n",
      "╞═══════════════════╪═════════════════╪═════════════════╪═════════╪══════════╡\n",
      "│               100 │               0 │             100 │       0 │        2 │\n",
      "├───────────────────┼─────────────────┼─────────────────┼─────────┼──────────┤\n",
      "│               100 │               1 │              99 │       0 │        3 │\n",
      "├───────────────────┼─────────────────┼─────────────────┼─────────┼──────────┤\n",
      "│               100 │               0 │             100 │       0 │        4 │\n",
      "╘═══════════════════╧═════════════════╧═════════════════╧═════════╧══════════╛\n"
     ]
    }
   ],
   "source": [
    "results = experiment(Option.RAND_VS_ALGO, 100, [2, 3, 4])\n",
    "print(tabulate(results, headers=\"keys\", tablefmt=\"fancy_grid\"))"
   ]
  },
  {
   "cell_type": "markdown",
   "metadata": {},
   "source": [
    "## Test dla rozgrywki algorytm vs algorytm (dla wszystkich kombinacji głębokości)"
   ]
  },
  {
   "cell_type": "code",
   "execution_count": 9,
   "metadata": {},
   "outputs": [
    {
     "name": "stdout",
     "output_type": "stream",
     "text": [
      "╒═══════════════════╤═════════════════╤═════════════════╤═════════╤═══════════════════╤═══════════════════╕\n",
      "│   Number of games │   Player 1 wins │   Player 2 wins │   Draws │   Depths player 1 │   Depths player 2 │\n",
      "╞═══════════════════╪═════════════════╪═════════════════╪═════════╪═══════════════════╪═══════════════════╡\n",
      "│               100 │              62 │              38 │       0 │                 2 │                 2 │\n",
      "├───────────────────┼─────────────────┼─────────────────┼─────────┼───────────────────┼───────────────────┤\n",
      "│               100 │              47 │              48 │       5 │                 2 │                 3 │\n",
      "├───────────────────┼─────────────────┼─────────────────┼─────────┼───────────────────┼───────────────────┤\n",
      "│               100 │              49 │              45 │       6 │                 2 │                 4 │\n",
      "├───────────────────┼─────────────────┼─────────────────┼─────────┼───────────────────┼───────────────────┤\n",
      "│               100 │             100 │               0 │       0 │                 3 │                 2 │\n",
      "├───────────────────┼─────────────────┼─────────────────┼─────────┼───────────────────┼───────────────────┤\n",
      "│               100 │              57 │              43 │       0 │                 3 │                 3 │\n",
      "├───────────────────┼─────────────────┼─────────────────┼─────────┼───────────────────┼───────────────────┤\n",
      "│               100 │              34 │              62 │       4 │                 3 │                 4 │\n",
      "├───────────────────┼─────────────────┼─────────────────┼─────────┼───────────────────┼───────────────────┤\n",
      "│               100 │              58 │              40 │       2 │                 4 │                 2 │\n",
      "├───────────────────┼─────────────────┼─────────────────┼─────────┼───────────────────┼───────────────────┤\n",
      "│               100 │              65 │              32 │       3 │                 4 │                 3 │\n",
      "├───────────────────┼─────────────────┼─────────────────┼─────────┼───────────────────┼───────────────────┤\n",
      "│               100 │              57 │              37 │       6 │                 4 │                 4 │\n",
      "╘═══════════════════╧═════════════════╧═════════════════╧═════════╧═══════════════════╧═══════════════════╛\n"
     ]
    }
   ],
   "source": [
    "results = experiment(Option.ALGO_VS_ALGO, 100, [2, 3, 4])\n",
    "print(tabulate(results, headers=\"keys\", tablefmt=\"fancy_grid\"))"
   ]
  },
  {
   "cell_type": "markdown",
   "metadata": {},
   "source": [
    "# Wyniki\n",
    "### Algo vs rand\n",
    "- Algorytm alpha-beta wygrywa z graczem grającym losowe ruchy niemal za każdym razem, niezależnie od głębokości przeszukiwania.\n",
    "- W rozgrywkach algorytm vs gracz losowy kolejność nie ma wpływu na wygraną.\n",
    "### Algo vs algo\n",
    "- Rozgrywki bardzo rzadko kończą się remisem.\n",
    "- Przy graczu pierwszym o stałej głębokości przeszukiwania zwiększanie głębokości przeszukiwania drugiego gracza powoduje zmniejszenie liczby wygranych tego pierwszego.\n",
    "- Przy równej głębokości przeszukiwania przewagę osiąga gracz zaczynający rozgrywkę. Przewaga ta zmniejsza się jednak wraz ze wzrostem głębokości przeszukiwania.\n",
    "- W rozgrywkach algorytmu o głębokośći 3 z algorytmem o głebokości 2 ten pierwszy wygrał za każdym razem. \n",
    "- Najwięcej remisów osiągnięto w rozgrywkach gdzie drugim graczem był algorytm o głębokości 4.\n",
    "# Wnioski\n",
    "- Większa głębokość przeszukiwania nie zawsze wiązała się z większą liczbą wygranych.\n",
    "- Kolejność ma duży wpływ na wygraną algorytmu. Najprawdopodobniej jest to spowodowane tym, że gracz rozpoczynający przejmuje inicjatywę i \"atakuje\", a jego przeciwnik zajmuje się głównie unieszkodliwianiem tych ataków.\n",
    "- Na szansę wygranej algorytmu wpływa przewaga pierwszego ruchu, głębokość przeszukiwania przeciwnika oraz własna głębokość przeszukiwania.\n",
    "\n"
   ]
  }
 ],
 "metadata": {
  "kernelspec": {
   "display_name": "Python 3",
   "language": "python",
   "name": "python3"
  },
  "language_info": {
   "codemirror_mode": {
    "name": "ipython",
    "version": 3
   },
   "file_extension": ".py",
   "mimetype": "text/x-python",
   "name": "python",
   "nbconvert_exporter": "python",
   "pygments_lexer": "ipython3",
   "version": "3.10.12"
  }
 },
 "nbformat": 4,
 "nbformat_minor": 2
}
