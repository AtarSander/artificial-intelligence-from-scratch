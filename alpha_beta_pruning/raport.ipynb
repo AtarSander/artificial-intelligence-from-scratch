{
 "cells": [
  {
   "cell_type": "markdown",
   "metadata": {},
   "source": [
    "# Report on two-person deterministic game\n",
    "### Libraries import"
   ]
  },
  {
   "cell_type": "code",
   "execution_count": 1,
   "metadata": {},
   "outputs": [],
   "source": [
    "import sys\n",
    "sys.path.append(\"two-player-games\")\n",
    "from experiment import experiment, Option\n",
    "from tabulate import tabulate"
   ]
  },
  {
   "cell_type": "markdown",
   "metadata": {},
   "source": [
    "## Design decisions\n",
    "### Implementation of alpha-beta\n",
    "- The alpha-beta algorithm browses the game tree by copying the current state of the game and making allowed moves on this copy. \n",
    "- As the tree is browsed, the results equal to the best one are added to the result list. After browsing all the paths, the algorithm draws a move from among those available in the result list. \n",
    "- At terminating nodes where the game has ended, -inf is returned if min won, inf if max won or 0 if tied. \n",
    "- In nodes that terminate the search due to depth = 0, the result of the heuristic function is returned.\n",
    "### Heuristics\n",
    "The heuristics for the Connect Four game involve looking through each row, column, diagonals. The algorithm goes along, for example, a row, checking how many fields occupied by players are in four consecutive fields. If there are fields occupied by different players in one foursome, the review of that foursome is interrupted, and the result is 0 (no winning combination is possible for anyone). If in one foursquare there are fields occupied by only one of the players and empty fields, points are added or subtracted (depending on whether it is the min or max player) to the score, depending on the number of occupied fields (one - the least, two - more, three - the most). The points from the fours along all axes are added up and returned as a heuristics score.\n",
    "# Experiments"
   ]
  },
  {
   "cell_type": "markdown",
   "metadata": {},
   "source": [
    "## The results of the gameplay in the case of random moves of both players"
   ]
  },
  {
   "cell_type": "code",
   "execution_count": 2,
   "metadata": {},
   "outputs": [
    {
     "name": "stdout",
     "output_type": "stream",
     "text": [
      "╒═══════════════════╤═════════════════╤═════════════════╤═════════╕\n",
      "│   Number of games │   Player 1 wins │   Player 2 wins │   Draws │\n",
      "╞═══════════════════╪═════════════════╪═════════════════╪═════════╡\n",
      "│              1000 │             579 │             420 │       1 │\n",
      "╘═══════════════════╧═════════════════╧═════════════════╧═════════╛\n"
     ]
    }
   ],
   "source": [
    "random_results = experiment(Option.RAND_VS_RAND.value, 1000)\n",
    "print(tabulate(random_results, headers=\"keys\", tablefmt=\"fancy_grid\"))"
   ]
  },
  {
   "cell_type": "markdown",
   "metadata": {},
   "source": [
    "As you can see, the order of moves for random players has little effect on the outcome. The player who starts the game has a slight advantage.\n",
    "# Purpose of the experiments\n",
    "In order to test the quality of the alpha-beta algorithm, it will be tested on 100 games for three variants of players:\n",
    "- algorithm player vs random player\n",
    "- random player vs algorithm player\n",
    "- algorithm player vs algorithm player"
   ]
  },
  {
   "cell_type": "markdown",
   "metadata": {},
   "source": [
    "And for three different search depths:\n",
    "- depth 2\n",
    "- depth 3\n",
    "- depth 4\n",
    "## Tests for alphabet algorithm (player 1) vs random player"
   ]
  },
  {
   "cell_type": "code",
   "execution_count": 3,
   "metadata": {},
   "outputs": [
    {
     "name": "stdout",
     "output_type": "stream",
     "text": [
      "╒═══════════════════╤═════════════════╤═════════════════╤═════════╤══════════╕\n",
      "│   Number of games │   Player 1 wins │   Player 2 wins │   Draws │   Depths │\n",
      "╞═══════════════════╪═════════════════╪═════════════════╪═════════╪══════════╡\n",
      "│               100 │             100 │               0 │       0 │        2 │\n",
      "├───────────────────┼─────────────────┼─────────────────┼─────────┼──────────┤\n",
      "│               100 │             100 │               0 │       0 │        3 │\n",
      "├───────────────────┼─────────────────┼─────────────────┼─────────┼──────────┤\n",
      "│               100 │             100 │               0 │       0 │        4 │\n",
      "╘═══════════════════╧═════════════════╧═════════════════╧═════════╧══════════╛\n"
     ]
    }
   ],
   "source": [
    "results = experiment(Option.ALGO_VS_RAND.value, 100, [2, 3, 4])\n",
    "print(tabulate(results, headers=\"keys\", tablefmt=\"fancy_grid\"))"
   ]
  },
  {
   "cell_type": "markdown",
   "metadata": {},
   "source": [
    "## Tests for random player vs alphabet alogrithm (player 2) "
   ]
  },
  {
   "cell_type": "code",
   "execution_count": 4,
   "metadata": {},
   "outputs": [
    {
     "name": "stdout",
     "output_type": "stream",
     "text": [
      "╒═══════════════════╤═════════════════╤═════════════════╤═════════╤══════════╕\n",
      "│   Number of games │   Player 1 wins │   Player 2 wins │   Draws │   Depths │\n",
      "╞═══════════════════╪═════════════════╪═════════════════╪═════════╪══════════╡\n",
      "│               100 │               0 │             100 │       0 │        2 │\n",
      "├───────────────────┼─────────────────┼─────────────────┼─────────┼──────────┤\n",
      "│               100 │               1 │              99 │       0 │        3 │\n",
      "├───────────────────┼─────────────────┼─────────────────┼─────────┼──────────┤\n",
      "│               100 │               0 │             100 │       0 │        4 │\n",
      "╘═══════════════════╧═════════════════╧═════════════════╧═════════╧══════════╛\n"
     ]
    }
   ],
   "source": [
    "results = experiment(Option.RAND_VS_ALGO, 100, [2, 3, 4])\n",
    "print(tabulate(results, headers=\"keys\", tablefmt=\"fancy_grid\"))"
   ]
  },
  {
   "cell_type": "markdown",
   "metadata": {},
   "source": [
    "## Test for algorithm vs algorithm gameplay (for all depth combinations)"
   ]
  },
  {
   "cell_type": "code",
   "execution_count": 9,
   "metadata": {},
   "outputs": [
    {
     "name": "stdout",
     "output_type": "stream",
     "text": [
      "╒═══════════════════╤═════════════════╤═════════════════╤═════════╤═══════════════════╤═══════════════════╕\n",
      "│   Number of games │   Player 1 wins │   Player 2 wins │   Draws │   Depths player 1 │   Depths player 2 │\n",
      "╞═══════════════════╪═════════════════╪═════════════════╪═════════╪═══════════════════╪═══════════════════╡\n",
      "│               100 │              62 │              38 │       0 │                 2 │                 2 │\n",
      "├───────────────────┼─────────────────┼─────────────────┼─────────┼───────────────────┼───────────────────┤\n",
      "│               100 │              47 │              48 │       5 │                 2 │                 3 │\n",
      "├───────────────────┼─────────────────┼─────────────────┼─────────┼───────────────────┼───────────────────┤\n",
      "│               100 │              49 │              45 │       6 │                 2 │                 4 │\n",
      "├───────────────────┼─────────────────┼─────────────────┼─────────┼───────────────────┼───────────────────┤\n",
      "│               100 │             100 │               0 │       0 │                 3 │                 2 │\n",
      "├───────────────────┼─────────────────┼─────────────────┼─────────┼───────────────────┼───────────────────┤\n",
      "│               100 │              57 │              43 │       0 │                 3 │                 3 │\n",
      "├───────────────────┼─────────────────┼─────────────────┼─────────┼───────────────────┼───────────────────┤\n",
      "│               100 │              34 │              62 │       4 │                 3 │                 4 │\n",
      "├───────────────────┼─────────────────┼─────────────────┼─────────┼───────────────────┼───────────────────┤\n",
      "│               100 │              58 │              40 │       2 │                 4 │                 2 │\n",
      "├───────────────────┼─────────────────┼─────────────────┼─────────┼───────────────────┼───────────────────┤\n",
      "│               100 │              65 │              32 │       3 │                 4 │                 3 │\n",
      "├───────────────────┼─────────────────┼─────────────────┼─────────┼───────────────────┼───────────────────┤\n",
      "│               100 │              57 │              37 │       6 │                 4 │                 4 │\n",
      "╘═══════════════════╧═════════════════╧═════════════════╧═════════╧═══════════════════╧═══════════════════╛\n"
     ]
    }
   ],
   "source": [
    "results = experiment(Option.ALGO_VS_ALGO, 100, [2, 3, 4])\n",
    "print(tabulate(results, headers=\"keys\", tablefmt=\"fancy_grid\"))"
   ]
  },
  {
   "cell_type": "markdown",
   "metadata": {},
   "source": [
    "# Results\n",
    "### Algorithm vs random\n",
    "- The alpha-beta algorithm wins against the random player almost every time, regardless of the depth of the search.\n",
    "- In games of algorithm vs. random player, the order has no bearing on winning.\n",
    "### Algorithm vs algorithm\n",
    "- The games very rarely end in a draw.\n",
    "- With the first player having a constant search depth, increasing the search depth of the second player reduces the number of wins of the first player.\n",
    "- With equal search depth, the advantage is gained by the player starting the game. However, this advantage decreases as the search depth increases.\n",
    "- In the games of the algorithm with a depth of 3 against the algorithm with a depth of 2, the former won every time. \n",
    "- The most ties were achieved in games where the second player was the algorithm with depth 4.\n",
    "# Conclusions\n",
    "- Greater search depth was not always associated with more wins.\n",
    "- The order has a big impact on the algorithm's win rate. This is most likely due to the fact that the starting player takes the initiative and \"attacks\", while his opponent is mainly concerned with neutralizing these attacks.\n",
    "- The algorithm's chance of winning is influenced by the first-move advantage, the opponent's search depth and its own search depth.\n"
   ]
  }
 ],
 "metadata": {
  "kernelspec": {
   "display_name": "Python 3",
   "language": "python",
   "name": "python3"
  },
  "language_info": {
   "codemirror_mode": {
    "name": "ipython",
    "version": 3
   },
   "file_extension": ".py",
   "mimetype": "text/x-python",
   "name": "python",
   "nbconvert_exporter": "python",
   "pygments_lexer": "ipython3",
   "version": "3.10.12"
  }
 },
 "nbformat": 4,
 "nbformat_minor": 2
}
