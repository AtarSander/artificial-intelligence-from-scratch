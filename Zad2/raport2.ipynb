{
 "cells": [
  {
   "cell_type": "code",
   "execution_count": 1,
   "metadata": {},
   "outputs": [],
   "source": [
    "from genetic import Genetic\n",
    "from physics import target_function\n",
    "from experiment import experiment"
   ]
  },
  {
   "cell_type": "code",
   "execution_count": 2,
   "metadata": {},
   "outputs": [
    {
     "data": {
      "text/plain": [
       "(array([0, 1, 1, 1, 0, 0, 1, 1, 0, 1, 1, 0, 1, 0, 1, 1, 1, 1, 1, 0, 1, 1,\n",
       "        1, 1, 0, 0, 0, 0, 0, 0, 1, 0, 1, 1, 1, 1, 0, 0, 1, 1, 1, 0, 1, 1,\n",
       "        1, 1, 1, 1, 1, 1, 1, 0, 1, 1, 1, 0, 1, 1, 1, 0, 0, 0, 1, 0, 1, 1,\n",
       "        1, 0, 0, 1, 1, 0, 0, 0, 0, 0, 0, 1, 0, 0, 1, 1, 1, 1, 0, 1, 0, 0,\n",
       "        0, 1, 0, 1, 1, 1, 0, 0, 1, 1, 0, 1, 0, 0, 0, 1, 1, 0, 1, 1, 1, 1,\n",
       "        0, 0, 0, 1, 0, 0, 1, 1, 1, 1, 0, 0, 0, 0, 1, 1, 0, 0, 0, 0, 0, 0,\n",
       "        1, 1, 0, 1, 0, 1, 1, 0, 0, 0, 1, 0, 0, 0, 1, 1, 0, 0, 1, 1, 0, 1,\n",
       "        0, 0, 1, 1, 0, 0, 0, 1, 0, 0, 0, 1, 0, 0, 0, 1, 0, 1, 1, 1, 1, 0,\n",
       "        1, 1, 0, 1, 0, 0, 0, 1, 0, 0, 0, 0, 1, 0, 0, 1, 1, 1, 0, 0, 0, 0,\n",
       "        1, 0]),\n",
       " 4899)"
      ]
     },
     "execution_count": 2,
     "metadata": {},
     "output_type": "execute_result"
    }
   ],
   "source": [
    "solver = Genetic()\n",
    "solver.solve(target_function, 500, 300, 0.9, 0.05)\n"
   ]
  },
  {
   "cell_type": "code",
   "execution_count": 2,
   "metadata": {},
   "outputs": [
    {
     "ename": "KeyboardInterrupt",
     "evalue": "",
     "output_type": "error",
     "traceback": [
      "\u001b[0;31m---------------------------------------------------------------------------\u001b[0m",
      "\u001b[0;31mKeyboardInterrupt\u001b[0m                         Traceback (most recent call last)",
      "\u001b[1;32m/home/atarsander/WSI/szymczyk_aleksander_wsi23z/Zad2/raport2.ipynb Cell 3\u001b[0m line \u001b[0;36m5\n\u001b[1;32m      <a href='vscode-notebook-cell://wsl%2Bubuntu/home/atarsander/WSI/szymczyk_aleksander_wsi23z/Zad2/raport2.ipynb#W3sdnNjb2RlLXJlbW90ZQ%3D%3D?line=2'>3</a>\u001b[0m CROSSOVER_RATE \u001b[39m=\u001b[39m [\u001b[39m0.75\u001b[39m, \u001b[39m0.85\u001b[39m, \u001b[39m0.95\u001b[39m]\n\u001b[1;32m      <a href='vscode-notebook-cell://wsl%2Bubuntu/home/atarsander/WSI/szymczyk_aleksander_wsi23z/Zad2/raport2.ipynb#W3sdnNjb2RlLXJlbW90ZQ%3D%3D?line=3'>4</a>\u001b[0m MUTATION_RATE \u001b[39m=\u001b[39m [\u001b[39m0.01\u001b[39m, \u001b[39m0.03\u001b[39m, \u001b[39m0.06\u001b[39m]\n\u001b[0;32m----> <a href='vscode-notebook-cell://wsl%2Bubuntu/home/atarsander/WSI/szymczyk_aleksander_wsi23z/Zad2/raport2.ipynb#W3sdnNjb2RlLXJlbW90ZQ%3D%3D?line=4'>5</a>\u001b[0m results \u001b[39m=\u001b[39m experiment(INDIVIDUALS_NUMBER, ITERATION_NUMBER, CROSSOVER_RATE, MUTATION_RATE)\n\u001b[1;32m      <a href='vscode-notebook-cell://wsl%2Bubuntu/home/atarsander/WSI/szymczyk_aleksander_wsi23z/Zad2/raport2.ipynb#W3sdnNjb2RlLXJlbW90ZQ%3D%3D?line=5'>6</a>\u001b[0m \u001b[39mprint\u001b[39m(results)\n",
      "File \u001b[0;32m~/WSI/szymczyk_aleksander_wsi23z/Zad2/experiment.py:14\u001b[0m, in \u001b[0;36mexperiment\u001b[0;34m(ind_num, iter_nums, cross_rate, mut_rate)\u001b[0m\n\u001b[1;32m     12\u001b[0m o \u001b[39m=\u001b[39m \u001b[39m0\u001b[39m\n\u001b[1;32m     13\u001b[0m \u001b[39mfor\u001b[39;00m _ \u001b[39min\u001b[39;00m \u001b[39mrange\u001b[39m(\u001b[39m25\u001b[39m):\n\u001b[0;32m---> 14\u001b[0m     x_best, o_best \u001b[39m=\u001b[39m solution\u001b[39m.\u001b[39;49msolve(target_function, combo[\u001b[39m0\u001b[39;49m], combo[\u001b[39m1\u001b[39;49m], combo[\u001b[39m2\u001b[39;49m], combo[\u001b[39m3\u001b[39;49m])\n\u001b[1;32m     15\u001b[0m     o \u001b[39m+\u001b[39m\u001b[39m=\u001b[39m o_best\n\u001b[1;32m     16\u001b[0m o \u001b[39m/\u001b[39m\u001b[39m=\u001b[39m \u001b[39m25\u001b[39m\n",
      "File \u001b[0;32m~/WSI/szymczyk_aleksander_wsi23z/Zad2/genetic.py:43\u001b[0m, in \u001b[0;36mGenetic.solve\u001b[0;34m(self, problem, pop_n, t_max, pc, pm, dim)\u001b[0m\n\u001b[1;32m     41\u001b[0m s \u001b[39m=\u001b[39m \u001b[39mself\u001b[39m\u001b[39m.\u001b[39mselection(p[t], o[t])\n\u001b[1;32m     42\u001b[0m m \u001b[39m=\u001b[39m \u001b[39mself\u001b[39m\u001b[39m.\u001b[39mcross_mutate(s, pc, pm)\n\u001b[0;32m---> 43\u001b[0m o[t\u001b[39m+\u001b[39m\u001b[39m1\u001b[39m] \u001b[39m=\u001b[39m \u001b[39mself\u001b[39;49m\u001b[39m.\u001b[39;49mgrade(problem, m)\n\u001b[1;32m     44\u001b[0m x_t, o_t \u001b[39m=\u001b[39m \u001b[39mself\u001b[39m\u001b[39m.\u001b[39mfind_best(m, o[t\u001b[39m+\u001b[39m\u001b[39m1\u001b[39m])\n\u001b[1;32m     45\u001b[0m \u001b[39mif\u001b[39;00m o_t \u001b[39m>\u001b[39m o_best:\n",
      "File \u001b[0;32m~/WSI/szymczyk_aleksander_wsi23z/Zad2/genetic.py:62\u001b[0m, in \u001b[0;36mGenetic.grade\u001b[0;34m(self, target_funct, pop)\u001b[0m\n\u001b[1;32m     60\u001b[0m g \u001b[39m=\u001b[39m []\n\u001b[1;32m     61\u001b[0m \u001b[39mfor\u001b[39;00m i \u001b[39min\u001b[39;00m pop:\n\u001b[0;32m---> 62\u001b[0m     g\u001b[39m.\u001b[39mappend(target_funct(i)\u001b[39m+\u001b[39m\u001b[39m3000\u001b[39m)\n\u001b[1;32m     63\u001b[0m \u001b[39mreturn\u001b[39;00m np\u001b[39m.\u001b[39marray(g)\n",
      "File \u001b[0;32m~/WSI/szymczyk_aleksander_wsi23z/Zad2/physics.py:16\u001b[0m, in \u001b[0;36mtarget_function\u001b[0;34m(x, p, v, m, g)\u001b[0m\n\u001b[1;32m     14\u001b[0m v \u001b[39m+\u001b[39m\u001b[39m=\u001b[39m a\n\u001b[1;32m     15\u001b[0m p \u001b[39m+\u001b[39m\u001b[39m=\u001b[39m v\n\u001b[0;32m---> 16\u001b[0m \u001b[39mif\u001b[39;00m \u001b[39m0\u001b[39m \u001b[39m<\u001b[39m p \u001b[39m<\u001b[39m \u001b[39m2\u001b[39m \u001b[39mand\u001b[39;00m np\u001b[39m.\u001b[39mabs(v) \u001b[39m<\u001b[39m \u001b[39m2\u001b[39m:\n\u001b[1;32m     17\u001b[0m     \u001b[39mreturn\u001b[39;00m cost \u001b[39m+\u001b[39m \u001b[39m2000\u001b[39m\n\u001b[1;32m     18\u001b[0m \u001b[39melif\u001b[39;00m p \u001b[39m<\u001b[39m \u001b[39m0\u001b[39m:\n",
      "\u001b[0;31mKeyboardInterrupt\u001b[0m: "
     ]
    }
   ],
   "source": [
    "INDIVIDUALS_NUMBER = [20, 30, 40]\n",
    "ITERATION_NUMBER = [50, 60, 70]\n",
    "CROSSOVER_RATE = [0.75, 0.85, 0.95]\n",
    "MUTATION_RATE = [0.01, 0.03, 0.06]\n",
    "results = experiment(INDIVIDUALS_NUMBER, ITERATION_NUMBER, CROSSOVER_RATE, MUTATION_RATE)\n",
    "print(results)\n"
   ]
  }
 ],
 "metadata": {
  "kernelspec": {
   "display_name": "Python 3",
   "language": "python",
   "name": "python3"
  },
  "language_info": {
   "codemirror_mode": {
    "name": "ipython",
    "version": 3
   },
   "file_extension": ".py",
   "mimetype": "text/x-python",
   "name": "python",
   "nbconvert_exporter": "python",
   "pygments_lexer": "ipython3",
   "version": "3.10.12"
  }
 },
 "nbformat": 4,
 "nbformat_minor": 2
}
