{
 "cells": [
  {
   "cell_type": "markdown",
   "metadata": {},
   "source": [
    "# Raport z zadania algorytm genetyczny\n",
    "## Import bibliotek"
   ]
  },
  {
   "cell_type": "code",
   "execution_count": 1,
   "metadata": {},
   "outputs": [],
   "source": [
    "from genetic import Genetic\n",
    "from physics import target_function\n",
    "from experiment import experiment, create_table, satisfy_budget\n",
    "from tabulate import tabulate\n",
    "from plotter import plot_results, plot_example"
   ]
  },
  {
   "cell_type": "markdown",
   "metadata": {},
   "source": [
    "### Algorytm\n",
    "Zaimplementowany algorytm wykorzystuje selekcje ruletkową z krzyżowaniem jednopunktowym oraz sukcesją generacyjną.\n",
    "### Przykład działania\n",
    "- $\\mu$ = 60\n",
    "- t_max = 400\n",
    "- pc = 0.85\n",
    "- pm = 0.05"
   ]
  },
  {
   "cell_type": "code",
   "execution_count": 2,
   "metadata": {},
   "outputs": [
    {
     "ename": "SyntaxError",
     "evalue": "invalid syntax (2375897222.py, line 8)",
     "output_type": "error",
     "traceback": [
      "\u001b[0;36m  Cell \u001b[0;32mIn [2], line 8\u001b[0;36m\u001b[0m\n\u001b[0;31m    plot_example(values, T_MAX \"\\u03BC=60, t_max=100,\\n pc=0.85, pm=0.05\")\u001b[0m\n\u001b[0m                               ^\u001b[0m\n\u001b[0;31mSyntaxError\u001b[0m\u001b[0;31m:\u001b[0m invalid syntax\n"
     ]
    }
   ],
   "source": [
    "example = Genetic()\n",
    "POP_N = 60\n",
    "T_MAX = 400\n",
    "PC = 0.85\n",
    "PM = 0.05\n",
    "ex_best = example.solve(target_function, pop_n=POP_N, t_max=T_MAX, pc=PC, pm=PM)\n",
    "values = example.get_best_grades()\n",
    "plot_example(values, T_MAX, \"\\u03BC=60, t_max=100,\\n pc=0.85, pm=0.05\")"
   ]
  },
  {
   "cell_type": "markdown",
   "metadata": {},
   "source": [
    "## Cel eksperymentów\n",
    "Zamierzam sprawdzić działanie algorytmu dla różnych hiperparametrów. Eksperymenty polegają na przeprowadzeniu 25 przebiegów algorytmu genetycznego dla każdej kombinacji hiperaparametrów, z których następnie wyciągany jest średni wynik wraz z odchyleniem standardowym. Badania pozwolą na porównanie wyników różnych populacji, ponieważ budżet wywołań funkcji celu jest stały (iloczyn liczby osobników i liczby iteracji jest stały). Przeprowadze badanie:\n",
    "- 4 różnych kombinacji osobników z liczbą iteracji\n",
    "- 4 różnych prawdopodobieństw krzyżowania\n",
    "- 4 różnych prawdopodobieństw mutacji"
   ]
  },
  {
   "cell_type": "code",
   "execution_count": null,
   "metadata": {},
   "outputs": [
    {
     "name": "stdout",
     "output_type": "stream",
     "text": [
      "([-55.48, 616.44, -257.68, 215.96, -136.36, 615.48, 264.32, 536.52, -533.08, 854.96, -408.8, 694.56, -53.28, 494.68, -54.08, 377.32, -52.64, 255.72, 184.56, 615.28, -212.56, 453.44, 63.88, 217.36, -14.44, 297.24, -251.0, 696.28, 20.32, 774.52, -251.44, 615.32, 303.24, 175.52, -209.76, 536.84, 105.16, 296.44, 268.08, 375.32, 222.96, 614.2, 144.92, 295.84, 263.72, 534.96, 105.64, 454.96, 423.32, 257.12, 343.08, 455.96, -93.08, 573.96, 502.12, 536.28, -52.16, 616.08, 421.12, 616.36, 223.64, 417.84, 222.04, 534.4], [1171.5006144257884, 1072.5419182484197, 912.0308205318502, 732.5928462659186, 1100.6796038811658, 959.1676858610281, 1186.6733912918078, 929.7795489254429, 685.2809596070797, 998.934972057741, 1073.1414818186836, 977.3045003477678, 1266.1893229687257, 977.8940114347771, 1171.968426878472, 855.401740470523, 1270.0167835111472, 838.2420900909236, 1330.0091151567347, 957.3899318459538, 1130.6158703998453, 894.8830573879471, 1213.480558393912, 730.8817075286534, 1249.276241029181, 799.2918505777474, 1144.6391920601006, 979.7367205530269, 1130.7135347204437, 989.5105505248542, 1143.471209257146, 959.6834778196402, 1255.9943719619127, 770.88505602327, 1230.4010169046512, 931.4360817576264, 1285.3884916242248, 936.0301738726162, 1370.3615849840508, 853.152399984903, 1214.5441113438408, 960.196438235427, 1261.8111719270835, 798.3922183989521, 1283.4839000158904, 932.3996344915629, 1284.7023275451788, 895.5439678765081, 1349.5609573487222, 840.8865474010153, 1318.305910477534, 896.0742147835747, 1188.9855144618039, 1006.2426140846948, 1285.4656843338917, 931.9164134191435, 1171.524363553742, 958.6148306801853, 1163.995509269688, 960.1583152793085, 1114.3639936753161, 940.4943244911157, 1112.3270914618595, 929.0060064391404])\n"
     ]
    }
   ],
   "source": [
    "INDIVIDUALS_NUMBER = [4, 8, 20, 40]\n",
    "ITERATION_NUMBER = [100, 200, 500, 1000]\n",
    "CROSSOVER_RATE = [0.6, 0.75, 0.85, 0.95]\n",
    "MUTATION_RATE = [0.01, 0.05, 0.1, 0.2]\n",
    "BUDGET = 4000\n",
    "results = experiment(INDIVIDUALS_NUMBER, ITERATION_NUMBER, CROSSOVER_RATE, MUTATION_RATE, BUDGET)\n",
    "ind_and_iter = satisfy_budget(INDIVIDUALS_NUMBER, ITERATION_NUMBER, BUDGET)\n",
    "table = create_table(ind_and_iter,  CROSSOVER_RATE, MUTATION_RATE, results[0], results[1])\n",
    "print(tabulate(table, headers=\"keys\", tablefmt=\"fancy_grid\"))"
   ]
  },
  {
   "cell_type": "code",
   "execution_count": null,
   "metadata": {},
   "outputs": [
    {
     "ename": "IndexError",
     "evalue": "tuple index out of range",
     "output_type": "error",
     "traceback": [
      "\u001b[0;31m---------------------------------------------------------------------------\u001b[0m",
      "\u001b[0;31mIndexError\u001b[0m                                Traceback (most recent call last)",
      "\u001b[1;32m/home/atarsander/WSI/szymczyk_aleksander_wsi23z/Zad2/raport2.ipynb Cell 8\u001b[0m line \u001b[0;36m1\n\u001b[0;32m----> <a href='vscode-notebook-cell://wsl%2Bubuntu/home/atarsander/WSI/szymczyk_aleksander_wsi23z/Zad2/raport2.ipynb#W4sdnNjb2RlLXJlbW90ZQ%3D%3D?line=0'>1</a>\u001b[0m plot_results(table, results[\u001b[39m0\u001b[39m], results[\u001b[39m2\u001b[39;49m], results[\u001b[39m3\u001b[39m])\n",
      "\u001b[0;31mIndexError\u001b[0m: tuple index out of range"
     ]
    }
   ],
   "source": [
    "plot_results(table, results[0], results[2], results[3])"
   ]
  }
 ],
 "metadata": {
  "kernelspec": {
   "display_name": "Python 3",
   "language": "python",
   "name": "python3"
  },
  "language_info": {
   "codemirror_mode": {
    "name": "ipython",
    "version": 3
   },
   "file_extension": ".py",
   "mimetype": "text/x-python",
   "name": "python",
   "nbconvert_exporter": "python",
   "pygments_lexer": "ipython3",
   "version": "3.10.12"
  }
 },
 "nbformat": 4,
 "nbformat_minor": 2
}
