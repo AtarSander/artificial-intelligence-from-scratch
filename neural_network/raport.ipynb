{
 "cells": [
  {
   "cell_type": "markdown",
   "metadata": {},
   "source": [
    "# Report from neural network task"
   ]
  },
  {
   "cell_type": "code",
   "execution_count": 1,
   "metadata": {},
   "outputs": [],
   "source": [
    "from experiment import experiment, evaluate_best_model, ModelType\n",
    "from utils import plot_loss\n",
    "from preprocessing import MnistDataloader\n",
    "import pandas as pd"
   ]
  },
  {
   "cell_type": "markdown",
   "metadata": {},
   "source": [
    "## Data preprocessing\n",
    "MNIST dataset is used for training and testing custom neural network. Images are loaded and preprocessed using a MnistDataLoader class from a kaggle notebook (https://www.kaggle.com/code/hojjatk/read-mnist-dataset). DataLoader class is slightly modified to return images and labels in `np.ndarray` format and split `train-images` and `train-labels` into train and validation sets."
   ]
  },
  {
   "cell_type": "code",
   "execution_count": 2,
   "metadata": {},
   "outputs": [],
   "source": [
    "mnist_dataloader = MnistDataloader(\"train-images-idx3-ubyte\", \"train-labels-idx1-ubyte\", \"t10k-images.idx3-ubyte\", \"t10k-labels.idx1-ubyte\")\n",
    "data_train, data_val, data_test = mnist_dataloader.load_data()"
   ]
  },
  {
   "cell_type": "markdown",
   "metadata": {},
   "source": [
    "## Neural network and experiments\n",
    "### Implementation\n",
    "This custom neural network is built by stacking multiple `Layer` objects. Each Layer is responsible for handling:\n",
    "- **Parameter Initialization**\n",
    "Uses a controlled strategy (He) to avoid issues like exploding or vanishing gradients.\n",
    "- **Forward Propagation**\n",
    "Computes $Z=XW^T+b$ for inputs $X$, and applies either ReLU or Softmax activation.\n",
    "- **Backward Propagation**\n",
    "Calculates the gradients of the loss function with respect to the weights, biases, and inputs for that layer.\n",
    "- **Parameter Updates**\n",
    "Adjusts weights and biases in a gradient descent step.\n",
    "\n",
    "The `Model` class combines these layers to form a complete neural network and provides:\n",
    "- **Forward Propagation**\n",
    "Sequentially passes data through all layers, calling each layer’s forward method.\n",
    "- **Cross-Entropy Loss**\n",
    "Quantifies the difference between predicted probabilities and the true labels.\n",
    "- **Backward Propagation**\n",
    "Propagates gradients backward through the layers in reverse order, calling each layer’s backward and update parameters methods.\n",
    "- **Prediction**\n",
    "Utilizes the trained network to infer the class labels of new inputs.\n",
    "### Experiments\n",
    "First, I do a broad overview of architectures with different layers count, sizes, learning rates and batch sizes to establish the right approach. Every model is trained for 50 epochs.\n",
    "\n",
    "Out of these networks I will choose the best performing one and submit it to further hyperparameter tuning.\n"
   ]
  },
  {
   "cell_type": "code",
   "execution_count": 3,
   "metadata": {},
   "outputs": [],
   "source": [
    "models_to_test = [[((784, 256), \"relu\"), ((256, 128), \"relu\"), ((128, 64), \"relu\"), ((64, 10), \"softmax\")],\n",
    "                  [((784, 128), \"relu\"), ((128, 64), \"relu\"), ((64, 10), \"softmax\")],\n",
    "                  [((784, 256), \"relu\"), ((256, 10), \"softmax\")],\n",
    "                  [((784, 10), \"softmax\")]]\n",
    "learning_rates_to_test = [3e-4, 3e-3, 3e-3, 3e-2]\n",
    "batch_sizes = [128, 128, 64, 64]\n",
    "epochs = 30"
   ]
  },
  {
   "cell_type": "code",
   "execution_count": 4,
   "metadata": {},
   "outputs": [
    {
     "name": "stdout",
     "output_type": "stream",
     "text": [
      "Starting the training\n",
      "Epoch: 0, loss: 0.5662963121296858\n",
      "Epoch: 10, loss: 0.06916624249726118\n",
      "Epoch: 20, loss: 0.02601898696092358\n",
      "Training finished\n",
      "Starting the training\n",
      "Epoch: 0, loss: 0.35494759359545613\n",
      "Epoch: 10, loss: 0.04485146297259555\n",
      "Epoch: 20, loss: 0.0010924100083495617\n",
      "Training finished\n",
      "Starting the training\n",
      "Epoch: 0, loss: 0.31473841584381246\n",
      "Epoch: 10, loss: 0.022622486507314372\n",
      "Epoch: 20, loss: 0.006425548515160729\n",
      "Training finished\n",
      "Starting the training\n",
      "Epoch: 0, loss: 0.7277835461229114\n",
      "Epoch: 10, loss: 0.4004724496817402\n",
      "Epoch: 20, loss: 0.38231221439224655\n",
      "Training finished\n"
     ]
    }
   ],
   "source": [
    "losses, train_accuracies, val_accuracies, exec_times  = experiment(data_train, data_val, models_to_test,  epochs, learning_rates_to_test, batch_sizes, ModelType.CUSTOM)"
   ]
  },
  {
   "cell_type": "code",
   "execution_count": 5,
   "metadata": {},
   "outputs": [
    {
     "data": {
      "text/html": [
       "<div>\n",
       "<style scoped>\n",
       "    .dataframe tbody tr th:only-of-type {\n",
       "        vertical-align: middle;\n",
       "    }\n",
       "\n",
       "    .dataframe tbody tr th {\n",
       "        vertical-align: top;\n",
       "    }\n",
       "\n",
       "    .dataframe thead th {\n",
       "        text-align: right;\n",
       "    }\n",
       "</style>\n",
       "<table border=\"1\" class=\"dataframe\">\n",
       "  <thead>\n",
       "    <tr style=\"text-align: right;\">\n",
       "      <th></th>\n",
       "      <th>model</th>\n",
       "      <th>learning_rate</th>\n",
       "      <th>batch_size</th>\n",
       "      <th>train_accuracy</th>\n",
       "      <th>val_accuracy</th>\n",
       "      <th>training_time</th>\n",
       "    </tr>\n",
       "  </thead>\n",
       "  <tbody>\n",
       "    <tr>\n",
       "      <th>0</th>\n",
       "      <td>[((784, 256), relu), ((256, 128), relu), ((128...</td>\n",
       "      <td>0.0003</td>\n",
       "      <td>128</td>\n",
       "      <td>0.99624</td>\n",
       "      <td>0.9742</td>\n",
       "      <td>164.17s</td>\n",
       "    </tr>\n",
       "    <tr>\n",
       "      <th>1</th>\n",
       "      <td>[((784, 128), relu), ((128, 64), relu), ((64, ...</td>\n",
       "      <td>0.0030</td>\n",
       "      <td>128</td>\n",
       "      <td>0.99964</td>\n",
       "      <td>0.9775</td>\n",
       "      <td>97.55s</td>\n",
       "    </tr>\n",
       "    <tr>\n",
       "      <th>2</th>\n",
       "      <td>[((784, 256), relu), ((256, 10), softmax)]</td>\n",
       "      <td>0.0030</td>\n",
       "      <td>64</td>\n",
       "      <td>0.99986</td>\n",
       "      <td>0.9788</td>\n",
       "      <td>173.46s</td>\n",
       "    </tr>\n",
       "    <tr>\n",
       "      <th>3</th>\n",
       "      <td>[((784, 10), softmax)]</td>\n",
       "      <td>0.0300</td>\n",
       "      <td>64</td>\n",
       "      <td>0.83254</td>\n",
       "      <td>0.8272</td>\n",
       "      <td>34.57s</td>\n",
       "    </tr>\n",
       "  </tbody>\n",
       "</table>\n",
       "</div>"
      ],
      "text/plain": [
       "                                               model  learning_rate  \\\n",
       "0  [((784, 256), relu), ((256, 128), relu), ((128...         0.0003   \n",
       "1  [((784, 128), relu), ((128, 64), relu), ((64, ...         0.0030   \n",
       "2         [((784, 256), relu), ((256, 10), softmax)]         0.0030   \n",
       "3                             [((784, 10), softmax)]         0.0300   \n",
       "\n",
       "   batch_size  train_accuracy  val_accuracy training_time  \n",
       "0         128         0.99624        0.9742       164.17s  \n",
       "1         128         0.99964        0.9775        97.55s  \n",
       "2          64         0.99986        0.9788       173.46s  \n",
       "3          64         0.83254        0.8272        34.57s  "
      ]
     },
     "execution_count": 5,
     "metadata": {},
     "output_type": "execute_result"
    }
   ],
   "source": [
    "results_custom = pd.DataFrame({\"model\": models_to_test, \"learning_rate\": learning_rates_to_test, \"batch_size\": batch_sizes, \"train_accuracy\": train_accuracies, \"val_accuracy\": val_accuracies, \"training_time\": exec_times})\n",
    "results_custom"
   ]
  },
  {
   "cell_type": "markdown",
   "metadata": {},
   "source": [
    "The differences between the results of the first three architectures are minimal. However model number 2 performs best "
   ]
  },
  {
   "cell_type": "code",
   "execution_count": 6,
   "metadata": {},
   "outputs": [
    {
     "data": {
      "image/png": "[encoded data removed]",
      "text/plain": [
       "<Figure size 640x480 with 1 Axes>"
      ]
     },
     "metadata": {},
     "output_type": "display_data"
    }
   ],
   "source": [
    "plot_loss(losses)"
   ]
  },
  {
   "cell_type": "markdown",
   "metadata": {},
   "source": [
    "## Comparison to Pytorch neural network training\n",
    "Pytorch has became the default framework for deep learning and that's why I wanted to compare performance of my custom neural network against it. All of the architectures tested above are trained using pytorch, with the same settings (initialization, optimizer, criterion) and hyperparameters as for the custom network."
   ]
  },
  {
   "cell_type": "code",
   "execution_count": 7,
   "metadata": {},
   "outputs": [
    {
     "name": "stdout",
     "output_type": "stream",
     "text": [
      "Starting the training\n",
      "Epoch:0, Loss: 2.330907477747144\n",
      "Epoch:10, Loss: 1.3108779551732876\n",
      "Epoch:20, Loss: 0.7352421788303444\n",
      "Training finished\n",
      "Starting the training\n",
      "Epoch:0, Loss: 1.9393435222718416\n",
      "Epoch:10, Loss: 0.35120266432042624\n",
      "Epoch:20, Loss: 0.2776467512692789\n",
      "Training finished\n",
      "Starting the training\n",
      "Epoch:0, Loss: 1.467449242044288\n",
      "Epoch:10, Loss: 0.33511508386248673\n",
      "Epoch:20, Loss: 0.2739407703866396\n",
      "Training finished\n",
      "Starting the training\n",
      "Epoch:0, Loss: 0.7231991322773039\n",
      "Epoch:10, Loss: 0.3093537015464071\n",
      "Epoch:20, Loss: 0.2874980059254657\n",
      "Training finished\n"
     ]
    }
   ],
   "source": [
    "losses, train_accuracies, val_accuracies, exec_times  = experiment(data_train, data_val, models_to_test,  epochs, learning_rates_to_test, batch_sizes, ModelType.TORCH)"
   ]
  },
  {
   "cell_type": "code",
   "execution_count": 8,
   "metadata": {},
   "outputs": [
    {
     "data": {
      "text/html": [
       "<div>\n",
       "<style scoped>\n",
       "    .dataframe tbody tr th:only-of-type {\n",
       "        vertical-align: middle;\n",
       "    }\n",
       "\n",
       "    .dataframe tbody tr th {\n",
       "        vertical-align: top;\n",
       "    }\n",
       "\n",
       "    .dataframe thead th {\n",
       "        text-align: right;\n",
       "    }\n",
       "</style>\n",
       "<table border=\"1\" class=\"dataframe\">\n",
       "  <thead>\n",
       "    <tr style=\"text-align: right;\">\n",
       "      <th></th>\n",
       "      <th>model</th>\n",
       "      <th>learning_rate</th>\n",
       "      <th>batch_size</th>\n",
       "      <th>train_accuracy</th>\n",
       "      <th>val_accuracy</th>\n",
       "      <th>training_time</th>\n",
       "    </tr>\n",
       "  </thead>\n",
       "  <tbody>\n",
       "    <tr>\n",
       "      <th>0</th>\n",
       "      <td>[((784, 256), relu), ((256, 128), relu), ((128...</td>\n",
       "      <td>0.0003</td>\n",
       "      <td>128</td>\n",
       "      <td>0.85398</td>\n",
       "      <td>0.8614</td>\n",
       "      <td>37.88s</td>\n",
       "    </tr>\n",
       "    <tr>\n",
       "      <th>1</th>\n",
       "      <td>[((784, 128), relu), ((128, 64), relu), ((64, ...</td>\n",
       "      <td>0.0030</td>\n",
       "      <td>128</td>\n",
       "      <td>0.92672</td>\n",
       "      <td>0.9279</td>\n",
       "      <td>27.52s</td>\n",
       "    </tr>\n",
       "    <tr>\n",
       "      <th>2</th>\n",
       "      <td>[((784, 256), relu), ((256, 10), softmax)]</td>\n",
       "      <td>0.0030</td>\n",
       "      <td>64</td>\n",
       "      <td>0.92914</td>\n",
       "      <td>0.9293</td>\n",
       "      <td>44.42s</td>\n",
       "    </tr>\n",
       "    <tr>\n",
       "      <th>3</th>\n",
       "      <td>[((784, 10), softmax)]</td>\n",
       "      <td>0.0300</td>\n",
       "      <td>64</td>\n",
       "      <td>0.88472</td>\n",
       "      <td>0.8878</td>\n",
       "      <td>27.22s</td>\n",
       "    </tr>\n",
       "  </tbody>\n",
       "</table>\n",
       "</div>"
      ],
      "text/plain": [
       "                                               model  learning_rate  \\\n",
       "0  [((784, 256), relu), ((256, 128), relu), ((128...         0.0003   \n",
       "1  [((784, 128), relu), ((128, 64), relu), ((64, ...         0.0030   \n",
       "2         [((784, 256), relu), ((256, 10), softmax)]         0.0030   \n",
       "3                             [((784, 10), softmax)]         0.0300   \n",
       "\n",
       "   batch_size  train_accuracy  val_accuracy training_time  \n",
       "0         128         0.85398        0.8614        37.88s  \n",
       "1         128         0.92672        0.9279        27.52s  \n",
       "2          64         0.92914        0.9293        44.42s  \n",
       "3          64         0.88472        0.8878        27.22s  "
      ]
     },
     "execution_count": 8,
     "metadata": {},
     "output_type": "execute_result"
    }
   ],
   "source": [
    "results_torch = pd.DataFrame({\"model\": models_to_test, \"learning_rate\": learning_rates_to_test, \"batch_size\": batch_sizes, \"train_accuracy\": train_accuracies, \"val_accuracy\": val_accuracies, \"training_time\": exec_times})\n",
    "results_torch"
   ]
  },
  {
   "cell_type": "markdown",
   "metadata": {},
   "source": [
    "Surprisingly networks trained using pytorch achieved noticeably lower accuracy than those trained using custom neural network. The biggest difference occured with 0th model, which in my network had validation accuracy of 0.9742 and in pytorch one only 0.8614."
   ]
  },
  {
   "cell_type": "code",
   "execution_count": 9,
   "metadata": {},
   "outputs": [
    {
     "data": {
      "image/png": "[encoded data removed]",
      "text/plain": [
       "<Figure size 640x480 with 1 Axes>"
      ]
     },
     "metadata": {},
     "output_type": "display_data"
    }
   ],
   "source": [
    "plot_loss(losses)"
   ]
  },
  {
   "cell_type": "markdown",
   "metadata": {},
   "source": [
    "## Best architecture hyperparameter tuning"
   ]
  },
  {
   "cell_type": "code",
   "execution_count": 11,
   "metadata": {},
   "outputs": [
    {
     "name": "stdout",
     "output_type": "stream",
     "text": [
      "Starting the training\n",
      "Epoch: 0, loss: 0.6698782396729188\n",
      "Epoch: 10, loss: 0.16675871351228827\n",
      "Epoch: 20, loss: 0.10649099938008576\n",
      "Training finished\n",
      "Starting the training\n",
      "Epoch: 0, loss: 0.6978980426918832\n",
      "Epoch: 10, loss: 0.16616945551794088\n",
      "Epoch: 20, loss: 0.10678033824490939\n",
      "Training finished\n",
      "Starting the training\n",
      "Epoch: 0, loss: 0.682332623586452\n",
      "Epoch: 10, loss: 0.16511715124738374\n",
      "Epoch: 20, loss: 0.10673106417659387\n",
      "Training finished\n",
      "Starting the training\n",
      "Epoch: 0, loss: 0.32670978517394017\n",
      "Epoch: 10, loss: 0.023428683725737042\n",
      "Epoch: 20, loss: 0.006563654775218884\n",
      "Training finished\n",
      "Starting the training\n",
      "Epoch: 0, loss: 0.313811069912411\n",
      "Epoch: 10, loss: 0.023629794073696003\n",
      "Epoch: 20, loss: 0.006564883495629619\n",
      "Training finished\n",
      "Starting the training\n",
      "Epoch: 0, loss: 0.30812969507515464\n",
      "Epoch: 10, loss: 0.023176609544841735\n",
      "Epoch: 20, loss: 0.0063908479469236305\n",
      "Training finished\n"
     ]
    }
   ],
   "source": [
    "best_models_to_test = [models_to_test[2]]*6\n",
    "learning_rates = [3e-4, 3e-4, 3e-4, 3e-3, 3e-3, 3e-3]\n",
    "batch_sizes = [128, 64, 32, 128, 64, 32]\n",
    "epochs = 30\n",
    "losses, train_accuracies, val_accuracies, exec_times  = experiment(data_train, data_val, best_models_to_test, epochs, learning_rates, batch_sizes, ModelType.CUSTOM)"
   ]
  },
  {
   "cell_type": "code",
   "execution_count": 12,
   "metadata": {},
   "outputs": [
    {
     "data": {
      "text/html": [
       "<div>\n",
       "<style scoped>\n",
       "    .dataframe tbody tr th:only-of-type {\n",
       "        vertical-align: middle;\n",
       "    }\n",
       "\n",
       "    .dataframe tbody tr th {\n",
       "        vertical-align: top;\n",
       "    }\n",
       "\n",
       "    .dataframe thead th {\n",
       "        text-align: right;\n",
       "    }\n",
       "</style>\n",
       "<table border=\"1\" class=\"dataframe\">\n",
       "  <thead>\n",
       "    <tr style=\"text-align: right;\">\n",
       "      <th></th>\n",
       "      <th>model</th>\n",
       "      <th>learning_rate</th>\n",
       "      <th>batch_size</th>\n",
       "      <th>train_accuracy</th>\n",
       "      <th>val_accuracy</th>\n",
       "      <th>training_time</th>\n",
       "    </tr>\n",
       "  </thead>\n",
       "  <tbody>\n",
       "    <tr>\n",
       "      <th>0</th>\n",
       "      <td>[((784, 256), relu), ((256, 10), softmax)]</td>\n",
       "      <td>0.0003</td>\n",
       "      <td>128</td>\n",
       "      <td>0.97868</td>\n",
       "      <td>0.9685</td>\n",
       "      <td>109.39s</td>\n",
       "    </tr>\n",
       "    <tr>\n",
       "      <th>1</th>\n",
       "      <td>[((784, 256), relu), ((256, 10), softmax)]</td>\n",
       "      <td>0.0003</td>\n",
       "      <td>64</td>\n",
       "      <td>0.97814</td>\n",
       "      <td>0.9678</td>\n",
       "      <td>170.63s</td>\n",
       "    </tr>\n",
       "    <tr>\n",
       "      <th>2</th>\n",
       "      <td>[((784, 256), relu), ((256, 10), softmax)]</td>\n",
       "      <td>0.0003</td>\n",
       "      <td>32</td>\n",
       "      <td>0.97866</td>\n",
       "      <td>0.9679</td>\n",
       "      <td>304.44s</td>\n",
       "    </tr>\n",
       "    <tr>\n",
       "      <th>3</th>\n",
       "      <td>[((784, 256), relu), ((256, 10), softmax)]</td>\n",
       "      <td>0.0030</td>\n",
       "      <td>128</td>\n",
       "      <td>0.99994</td>\n",
       "      <td>0.9796</td>\n",
       "      <td>105.61s</td>\n",
       "    </tr>\n",
       "    <tr>\n",
       "      <th>4</th>\n",
       "      <td>[((784, 256), relu), ((256, 10), softmax)]</td>\n",
       "      <td>0.0030</td>\n",
       "      <td>64</td>\n",
       "      <td>0.99958</td>\n",
       "      <td>0.9784</td>\n",
       "      <td>184.95s</td>\n",
       "    </tr>\n",
       "    <tr>\n",
       "      <th>5</th>\n",
       "      <td>[((784, 256), relu), ((256, 10), softmax)]</td>\n",
       "      <td>0.0030</td>\n",
       "      <td>32</td>\n",
       "      <td>0.99934</td>\n",
       "      <td>0.9795</td>\n",
       "      <td>308.74s</td>\n",
       "    </tr>\n",
       "  </tbody>\n",
       "</table>\n",
       "</div>"
      ],
      "text/plain": [
       "                                        model  learning_rate  batch_size  \\\n",
       "0  [((784, 256), relu), ((256, 10), softmax)]         0.0003         128   \n",
       "1  [((784, 256), relu), ((256, 10), softmax)]         0.0003          64   \n",
       "2  [((784, 256), relu), ((256, 10), softmax)]         0.0003          32   \n",
       "3  [((784, 256), relu), ((256, 10), softmax)]         0.0030         128   \n",
       "4  [((784, 256), relu), ((256, 10), softmax)]         0.0030          64   \n",
       "5  [((784, 256), relu), ((256, 10), softmax)]         0.0030          32   \n",
       "\n",
       "   train_accuracy  val_accuracy training_time  \n",
       "0         0.97868        0.9685       109.39s  \n",
       "1         0.97814        0.9678       170.63s  \n",
       "2         0.97866        0.9679       304.44s  \n",
       "3         0.99994        0.9796       105.61s  \n",
       "4         0.99958        0.9784       184.95s  \n",
       "5         0.99934        0.9795       308.74s  "
      ]
     },
     "execution_count": 12,
     "metadata": {},
     "output_type": "execute_result"
    }
   ],
   "source": [
    "results_best= pd.DataFrame({\"model\": best_models_to_test, \"learning_rate\": learning_rates, \"batch_size\": batch_sizes, \"train_accuracy\": train_accuracies, \"val_accuracy\": val_accuracies, \"training_time\": exec_times})\n",
    "results_best"
   ]
  },
  {
   "cell_type": "code",
   "execution_count": 14,
   "metadata": {},
   "outputs": [
    {
     "name": "stdout",
     "output_type": "stream",
     "text": [
      "Starting the training\n",
      "Epoch: 0, loss: 0.33198125572974846\n",
      "Epoch: 10, loss: 0.02270212733185691\n",
      "Epoch: 20, loss: 0.006438420115263897\n",
      "Training finished\n"
     ]
    }
   ],
   "source": [
    "train_acc, val_acc, test_acc = evaluate_best_model(best_models_to_test[3], data_train, data_val, data_test, epochs, learning_rates[3], batch_sizes[3])"
   ]
  },
  {
   "cell_type": "code",
   "execution_count": 16,
   "metadata": {},
   "outputs": [
    {
     "data": {
      "text/html": [
       "<div>\n",
       "<style scoped>\n",
       "    .dataframe tbody tr th:only-of-type {\n",
       "        vertical-align: middle;\n",
       "    }\n",
       "\n",
       "    .dataframe tbody tr th {\n",
       "        vertical-align: top;\n",
       "    }\n",
       "\n",
       "    .dataframe thead th {\n",
       "        text-align: right;\n",
       "    }\n",
       "</style>\n",
       "<table border=\"1\" class=\"dataframe\">\n",
       "  <thead>\n",
       "    <tr style=\"text-align: right;\">\n",
       "      <th></th>\n",
       "      <th>model</th>\n",
       "      <th>learning_rate</th>\n",
       "      <th>batch_size</th>\n",
       "      <th>train_accuracy</th>\n",
       "      <th>val_accuracy</th>\n",
       "      <th>test_accuracy</th>\n",
       "    </tr>\n",
       "  </thead>\n",
       "  <tbody>\n",
       "    <tr>\n",
       "      <th>0</th>\n",
       "      <td>[((784, 256), relu), ((256, 10), softmax)]</td>\n",
       "      <td>0.003</td>\n",
       "      <td>128</td>\n",
       "      <td>0.99976</td>\n",
       "      <td>0.9791</td>\n",
       "      <td>0.9795</td>\n",
       "    </tr>\n",
       "  </tbody>\n",
       "</table>\n",
       "</div>"
      ],
      "text/plain": [
       "                                        model  learning_rate  batch_size  \\\n",
       "0  [((784, 256), relu), ((256, 10), softmax)]          0.003         128   \n",
       "\n",
       "   train_accuracy  val_accuracy  test_accuracy  \n",
       "0         0.99976        0.9791         0.9795  "
      ]
     },
     "execution_count": 16,
     "metadata": {},
     "output_type": "execute_result"
    }
   ],
   "source": [
    "final_results = pd.DataFrame({\"model\": [best_models_to_test[4]], \"learning_rate\": learning_rates[4], \"batch_size\": batch_sizes[3], \"train_accuracy\": train_acc, \"val_accuracy\": val_acc, \"test_accuracy\": test_acc})\n",
    "final_results"
   ]
  },
  {
   "cell_type": "markdown",
   "metadata": {},
   "source": [
    "# Results\n",
    "- The best accuracy on the validation dataset was achieved by model with architecture [((784, 256), relu), ((256, 10), softmax)].\n",
    "- Custom neural networks training took significantly more time than the pytorch ones.\n",
    "- Pytorch neural networks achieved worse accuracy results with every tested architecture except [((784, 10), softmax)].\n",
    "- The losses of pytorch neural networks and custom neural networks varied.\n",
    "# Conclusions\n",
    "- Setting lower batch size significantly slows down the training (reverse is also true).\n",
    "- Discrepancies between custom and pytorch network's loss are caused by the difference in CrossEntropy calculation. PyTorch implements Log-sum-exp version of CE, with raw logits expected as input of the loss, while my approach uses standard CE version with softmax function explicitly used as the activation function of the last layer.\n",
    "- MNIST classification is easy enough problem to achieve extremely high testing accuracy even for very shallow neural network. Too deep of a network can even worsen the results.\n",
    "- Despite the fact that no regularization techniques were used the differences between training and validation accuracies were minimal - overfitting did not occur.\n"
   ]
  }
 ],
 "metadata": {
  "kernelspec": {
   "display_name": "Python 3",
   "language": "python",
   "name": "python3"
  },
  "language_info": {
   "codemirror_mode": {
    "name": "ipython",
    "version": 3
   },
   "file_extension": ".py",
   "mimetype": "text/x-python",
   "name": "python",
   "nbconvert_exporter": "python",
   "pygments_lexer": "ipython3",
   "version": "3.10.12"
  }
 },
 "nbformat": 4,
 "nbformat_minor": 2
}
