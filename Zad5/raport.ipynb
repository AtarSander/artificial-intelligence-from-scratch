{
 "cells": [
  {
   "cell_type": "markdown",
   "metadata": {},
   "source": [
    "# Raport z zadania sztuczne sieci neuronowe\n",
    "### Aleksander Szymczyk (aleksander.szymczyk.stud@pw.edu.pl)"
   ]
  },
  {
   "cell_type": "code",
   "execution_count": 1,
   "metadata": {},
   "outputs": [
    {
     "name": "stderr",
     "output_type": "stream",
     "text": [
      "2024-01-07 20:30:57.402162: E external/local_xla/xla/stream_executor/cuda/cuda_dnn.cc:9261] Unable to register cuDNN factory: Attempting to register factory for plugin cuDNN when one has already been registered\n",
      "2024-01-07 20:30:57.402242: E external/local_xla/xla/stream_executor/cuda/cuda_fft.cc:607] Unable to register cuFFT factory: Attempting to register factory for plugin cuFFT when one has already been registered\n",
      "2024-01-07 20:30:57.403646: E external/local_xla/xla/stream_executor/cuda/cuda_blas.cc:1515] Unable to register cuBLAS factory: Attempting to register factory for plugin cuBLAS when one has already been registered\n",
      "2024-01-07 20:30:57.412766: I tensorflow/core/platform/cpu_feature_guard.cc:182] This TensorFlow binary is optimized to use available CPU instructions in performance-critical operations.\n",
      "To enable the following instructions: AVX2 FMA, in other operations, rebuild TensorFlow with the appropriate compiler flags.\n",
      "2024-01-07 20:30:59.346529: W tensorflow/compiler/tf2tensorrt/utils/py_utils.cc:38] TF-TRT Warning: Could not find TensorRT\n"
     ]
    }
   ],
   "source": [
    "from preprocessing import load_dataset\n",
    "from model import Model\n",
    "import tensorflow as tf"
   ]
  },
  {
   "cell_type": "markdown",
   "metadata": {},
   "source": [
    "## Decyzje projektowe\n",
    "- Początkowe parametry inicjalizowane są za pomocą metody He initialization. Wybrałem ją, ponieważ unika zbyt dużego zniejszania/przyrostu wielkości wejściowych wag przy wykorzystaniu funkcji aktywacji ReLU.\n",
    "- Funkcjami aktywacji kolejnych wartsw ukrytych jest funkcja ReLU. Funkcją aktywacji ostatniej warstwy jest Softmax.\n",
    "- Funkcja kosztu to cross-entropy loss.\n",
    "- Dane treningowe dzielone są na batche o rozmiarze 512, zmieniające się losowo w trakcie treningu.\n",
    "## Wstępne przetwarzanie danych"
   ]
  },
  {
   "cell_type": "code",
   "execution_count": 2,
   "metadata": {},
   "outputs": [],
   "source": [
    "X_train, Y_train, X_dev, Y_dev, X_test, Y_test = load_dataset()"
   ]
  },
  {
   "cell_type": "code",
   "execution_count": 3,
   "metadata": {},
   "outputs": [],
   "source": [
    "# model = tf.keras.Sequential([\n",
    "#     tf.keras.layers.Dense(units=784, activation='relu', input_shape=(784,)),\n",
    "#     tf.keras.layers.Dense(units=100, activation='relu'),\n",
    "#     tf.keras.layers.Dense(units=10, activation='softmax')\n",
    "# ])\n",
    "# model.compile(optimizer='sgd', loss='categorical_crossentropy', metrics=['accuracy'])\n",
    "# model.fit(X_train, Y_train, epochs=100, batch_size=512, validation_data=(X_dev, Y_dev))\n",
    "# test_loss, test_acc = model.evaluate(X_test, Y_test)\n",
    "# print(f'Test accuracy: {test_acc}')"
   ]
  },
  {
   "cell_type": "markdown",
   "metadata": {},
   "source": [
    "# Trenowanie oraz walidacja"
   ]
  },
  {
   "cell_type": "code",
   "execution_count": 5,
   "metadata": {},
   "outputs": [
    {
     "name": "stdout",
     "output_type": "stream",
     "text": [
      "(784, 50000)\n",
      "Cost after iteration 0: 2.413266811360854\n",
      "\n",
      "Cost after iteration 100: 1.9505907566952354\n",
      "\n",
      "Cost after iteration 200: 1.6391527046548973\n",
      "\n",
      "Cost after iteration 300: 1.4398016304673757\n",
      "\n",
      "Cost after iteration 400: 1.3243770994973567\n",
      "\n",
      "Cost after iteration 500: 1.2438702594308972\n",
      "\n",
      "Cost after iteration 600: 1.1648549409124627\n",
      "\n",
      "Cost after iteration 700: 1.0966872245913388\n",
      "\n",
      "Cost after iteration 800: 1.0027111828594504\n",
      "\n",
      "Cost after iteration 900: 0.8653090787134945\n",
      "\n",
      "Cost after iteration 1000: 0.7891573084309662\n",
      "\n",
      "Cost after iteration 1100: 0.7304247106658368\n",
      "\n",
      "Cost after iteration 1200: 0.6789611179078845\n",
      "\n",
      "Cost after iteration 1300: 0.6338145297369098\n",
      "\n",
      "Cost after iteration 1400: 0.6091000346039116\n",
      "\n",
      "Cost after iteration 1500: 0.5896490993207415\n",
      "\n",
      "Cost after iteration 1600: 0.5739913754195592\n",
      "\n",
      "Cost after iteration 1700: 0.561062046870504\n",
      "\n",
      "Cost after iteration 1800: 0.5495331288831063\n",
      "\n",
      "Cost after iteration 1900: 0.5401335467404459\n",
      "\n",
      "Cost after iteration 2000: 0.5330094502198987\n",
      "\n",
      "Cost after iteration 2100: 0.5247148286035092\n",
      "\n",
      "Cost after iteration 2200: 0.5192513290080958\n",
      "\n",
      "Cost after iteration 2300: 0.5130371067251178\n",
      "\n",
      "Cost after iteration 2400: 0.5081200572532636\n",
      "\n",
      "Cost after iteration 2500: 0.5026773033195434\n",
      "\n",
      "Cost after iteration 2600: 0.49959018884734346\n",
      "\n",
      "Cost after iteration 2700: 0.49436023114116223\n",
      "\n",
      "Cost after iteration 2800: 0.4901847309681218\n",
      "\n",
      "Cost after iteration 2900: 0.4866933248845331\n",
      "\n",
      "Cost after iteration 3000: 0.4831108547560743\n",
      "\n",
      "Cost after iteration 3100: 0.47951480763261806\n",
      "\n",
      "Cost after iteration 3200: 0.47614121045996405\n",
      "\n",
      "Cost after iteration 3300: 0.47290256266164044\n",
      "\n",
      "Cost after iteration 3400: 0.4693734219626764\n",
      "\n",
      "Cost after iteration 3500: 0.4665169110537376\n",
      "\n",
      "Cost after iteration 3600: 0.4638185779903025\n",
      "\n",
      "Cost after iteration 3700: 0.46143138111864646\n",
      "\n",
      "Cost after iteration 3800: 0.458751049096294\n",
      "\n",
      "Cost after iteration 3900: 0.4562689021245921\n",
      "\n"
     ]
    }
   ],
   "source": [
    "LAYERS_DIMS = [784, 5, 10]\n",
    "LEARNING_RATE = 0.001\n",
    "model = Model(LAYERS_DIMS)\n",
    "print(X_train.T.shape)\n",
    "costs = model.train(X_train[:10000, :].T, Y_train[:10000, :].T, LEARNING_RATE, 1000, 64, 1, True)"
   ]
  },
  {
   "cell_type": "code",
   "execution_count": 6,
   "metadata": {},
   "outputs": [
    {
     "name": "stdout",
     "output_type": "stream",
     "text": [
      "Accuracy: 0.88375\n",
      "Accuracy: 0.865\n"
     ]
    }
   ],
   "source": [
    "accuracy_training = model.predict(X_train[:20000, :].T, Y_train[:20000, :].T)\n",
    "print(f\"Accuracy: {accuracy_training}\")\n",
    "accuracy_dev = model.predict(X_dev[:4000, :].T, Y_dev[:4000, :].T)\n",
    "print(f\"Accuracy: {accuracy_dev}\")"
   ]
  }
 ],
 "metadata": {
  "kernelspec": {
   "display_name": "Python 3",
   "language": "python",
   "name": "python3"
  },
  "language_info": {
   "codemirror_mode": {
    "name": "ipython",
    "version": 3
   },
   "file_extension": ".py",
   "mimetype": "text/x-python",
   "name": "python",
   "nbconvert_exporter": "python",
   "pygments_lexer": "ipython3",
   "version": "3.10.12"
  }
 },
 "nbformat": 4,
 "nbformat_minor": 2
}
