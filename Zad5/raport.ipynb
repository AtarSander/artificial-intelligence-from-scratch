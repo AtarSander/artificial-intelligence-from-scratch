{
 "cells": [
  {
   "cell_type": "markdown",
   "metadata": {},
   "source": [
    "# Raport z zadania sztuczne sieci neuronowe\n",
    "### Aleksander Szymczyk (aleksander.szymczyk.stud@pw.edu.pl)"
   ]
  },
  {
   "cell_type": "code",
   "execution_count": 1,
   "metadata": {},
   "outputs": [
    {
     "name": "stderr",
     "output_type": "stream",
     "text": [
      "2024-01-07 20:28:21.051288: E external/local_xla/xla/stream_executor/cuda/cuda_dnn.cc:9261] Unable to register cuDNN factory: Attempting to register factory for plugin cuDNN when one has already been registered\n",
      "2024-01-07 20:28:21.051353: E external/local_xla/xla/stream_executor/cuda/cuda_fft.cc:607] Unable to register cuFFT factory: Attempting to register factory for plugin cuFFT when one has already been registered\n",
      "2024-01-07 20:28:21.052355: E external/local_xla/xla/stream_executor/cuda/cuda_blas.cc:1515] Unable to register cuBLAS factory: Attempting to register factory for plugin cuBLAS when one has already been registered\n",
      "2024-01-07 20:28:21.059681: I tensorflow/core/platform/cpu_feature_guard.cc:182] This TensorFlow binary is optimized to use available CPU instructions in performance-critical operations.\n",
      "To enable the following instructions: AVX2 FMA, in other operations, rebuild TensorFlow with the appropriate compiler flags.\n",
      "2024-01-07 20:28:22.310205: W tensorflow/compiler/tf2tensorrt/utils/py_utils.cc:38] TF-TRT Warning: Could not find TensorRT\n"
     ]
    }
   ],
   "source": [
    "from preprocessing import load_dataset\n",
    "from model import Model\n",
    "import tensorflow as tf"
   ]
  },
  {
   "cell_type": "markdown",
   "metadata": {},
   "source": [
    "## Decyzje projektowe\n",
    "- Początkowe parametry inicjalizowane są za pomocą metody He initialization. Wybrałem ją, ponieważ unika zbyt dużego zniejszania/przyrostu wielkości wejściowych wag przy wykorzystaniu funkcji aktywacji ReLU.\n",
    "- Funkcjami aktywacji kolejnych wartsw ukrytych jest funkcja ReLU. Funkcją aktywacji ostatniej warstwy jest Softmax.\n",
    "- Funkcja kosztu to cross-entropy loss.\n",
    "- Dane treningowe dzielone są na batche o rozmiarze 512, zmieniające się losowo w trakcie treningu.\n",
    "## Wstępne przetwarzanie danych"
   ]
  },
  {
   "cell_type": "code",
   "execution_count": 2,
   "metadata": {},
   "outputs": [],
   "source": [
    "X_train, Y_train, X_dev, Y_dev, X_test, Y_test = load_dataset()"
   ]
  },
  {
   "cell_type": "code",
   "execution_count": 3,
   "metadata": {},
   "outputs": [],
   "source": [
    "# model = tf.keras.Sequential([\n",
    "#     tf.keras.layers.Dense(units=784, activation='relu', input_shape=(784,)),\n",
    "#     tf.keras.layers.Dense(units=100, activation='relu'),\n",
    "#     tf.keras.layers.Dense(units=10, activation='softmax')\n",
    "# ])\n",
    "# model.compile(optimizer='sgd', loss='categorical_crossentropy', metrics=['accuracy'])\n",
    "# model.fit(X_train, Y_train, epochs=100, batch_size=512, validation_data=(X_dev, Y_dev))\n",
    "# test_loss, test_acc = model.evaluate(X_test, Y_test)\n",
    "# print(f'Test accuracy: {test_acc}')"
   ]
  },
  {
   "cell_type": "markdown",
   "metadata": {},
   "source": [
    "# Trenowanie oraz walidacja"
   ]
  },
  {
   "cell_type": "code",
   "execution_count": 4,
   "metadata": {},
   "outputs": [
    {
     "name": "stdout",
     "output_type": "stream",
     "text": [
      "(784, 50000)\n",
      "Cost after iteration 0: 2.38973039763825\n",
      "\n",
      "Cost after iteration 100: 1.8833318684373777\n",
      "\n",
      "Cost after iteration 200: 1.447367583782979\n",
      "\n",
      "Cost after iteration 300: 1.1349335710574955\n",
      "\n",
      "Cost after iteration 400: 0.9687931056436104\n",
      "\n",
      "Cost after iteration 500: 0.827982917253251\n",
      "\n",
      "Cost after iteration 600: 0.727505754380919\n",
      "\n",
      "Cost after iteration 700: 0.6569567809170148\n",
      "\n",
      "Cost after iteration 800: 0.587307147663918\n",
      "\n",
      "Cost after iteration 900: 0.5330516361067994\n",
      "\n"
     ]
    }
   ],
   "source": [
    "LAYERS_DIMS = [784, 5, 10]\n",
    "LEARNING_RATE = 0.015\n",
    "model = Model(LAYERS_DIMS)\n",
    "print(X_train.T.shape)\n",
    "parameters, costs = model.train(X_train[:2000, :].T, Y_train[:2000, :].T, LAYERS_DIMS, LEARNING_RATE, 4000, 64, 1, True)"
   ]
  },
  {
   "cell_type": "code",
   "execution_count": 5,
   "metadata": {},
   "outputs": [
    {
     "name": "stdout",
     "output_type": "stream",
     "text": [
      "Accuracy: 0.889\n",
      "Accuracy: 0.8225\n"
     ]
    }
   ],
   "source": [
    "accuracy_training = model.predict(X_train[:2000, :].T, Y_train[:2000, :].T, parameters)\n",
    "print(f\"Accuracy: {accuracy_training}\")\n",
    "accuracy_dev = model.predict(X_dev[:400, :].T, Y_dev[:400, :].T, parameters)\n",
    "print(f\"Accuracy: {accuracy_dev}\")"
   ]
  }
 ],
 "metadata": {
  "kernelspec": {
   "display_name": "Python 3",
   "language": "python",
   "name": "python3"
  },
  "language_info": {
   "codemirror_mode": {
    "name": "ipython",
    "version": 3
   },
   "file_extension": ".py",
   "mimetype": "text/x-python",
   "name": "python",
   "nbconvert_exporter": "python",
   "pygments_lexer": "ipython3",
   "version": "3.10.12"
  }
 },
 "nbformat": 4,
 "nbformat_minor": 2
}
