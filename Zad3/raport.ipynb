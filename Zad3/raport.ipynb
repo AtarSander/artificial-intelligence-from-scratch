{
 "cells": [
  {
   "cell_type": "markdown",
   "metadata": {},
   "source": [
    "# Raport z zadania dwuosobowe gry deterministyczne\n",
    "### Aleksander Szymczyk\n",
    "### Import bibliotek"
   ]
  },
  {
   "cell_type": "code",
   "execution_count": 1,
   "metadata": {},
   "outputs": [],
   "source": [
    "import sys\n",
    "import numpy as np\n",
    "import random\n",
    "import copy\n",
    "sys.path.append(\"two-player-games\")\n",
    "from two_player_games.games.connect_four import ConnectFour\n",
    "from alphabeta import Alphabeta\n",
    "from experiment import experiment\n",
    "from tabulate import tabulate"
   ]
  },
  {
   "cell_type": "code",
   "execution_count": 2,
   "metadata": {},
   "outputs": [
    {
     "name": "stdout",
     "output_type": "stream",
     "text": [
      "╒═══════════════════╤═════════════════╤═════════════════╤═════════╕\n",
      "│   Number of games │   Player 1 wins │   Player 2 wins │   Draws │\n",
      "╞═══════════════════╪═════════════════╪═════════════════╪═════════╡\n",
      "│             10000 │            5626 │            4341 │      33 │\n",
      "╘═══════════════════╧═════════════════╧═════════════════╧═════════╛\n"
     ]
    }
   ],
   "source": [
    "random_results = experiment(1, 10000)\n",
    "print(tabulate(random_results, headers=\"keys\", tablefmt=\"fancy_grid\"))"
   ]
  },
  {
   "cell_type": "code",
   "execution_count": 3,
   "metadata": {},
   "outputs": [
    {
     "name": "stdout",
     "output_type": "stream",
     "text": [
      "╒═══════════════════╤═════════════════╤═════════════════╤═════════╤══════════╕\n",
      "│   Number of games │   Player 1 wins │   Player 2 wins │   Draws │   Depths │\n",
      "╞═══════════════════╪═════════════════╪═════════════════╪═════════╪══════════╡\n",
      "│             10000 │            5811 │            4171 │      18 │        2 │\n",
      "├───────────────────┼─────────────────┼─────────────────┼─────────┼──────────┤\n",
      "│             10000 │            8490 │            1510 │       0 │        3 │\n",
      "├───────────────────┼─────────────────┼─────────────────┼─────────┼──────────┤\n",
      "│             10000 │            8414 │            1585 │       1 │        4 │\n",
      "╘═══════════════════╧═════════════════╧═════════════════╧═════════╧══════════╛\n"
     ]
    }
   ],
   "source": [
    "max_player_results = experiment(2, 10000, 1, [5])\n",
    "print(tabulate(max_player_results, headers=\"keys\", tablefmt=\"fancy_grid\"))"
   ]
  },
  {
   "cell_type": "code",
   "execution_count": 4,
   "metadata": {},
   "outputs": [
    {
     "name": "stdout",
     "output_type": "stream",
     "text": [
      "╒═══════════════════╤═════════════════╤═════════════════╤═════════╤══════════╕\n",
      "│   Number of games │   Player 1 wins │   Player 2 wins │   Draws │   Depths │\n",
      "╞═══════════════════╪═════════════════╪═════════════════╪═════════╪══════════╡\n",
      "│             10000 │            4983 │            5006 │      11 │        2 │\n",
      "├───────────────────┼─────────────────┼─────────────────┼─────────┼──────────┤\n",
      "│             10000 │            2258 │            7741 │       1 │        3 │\n",
      "├───────────────────┼─────────────────┼─────────────────┼─────────┼──────────┤\n",
      "│             10000 │            2738 │            7262 │       0 │        4 │\n",
      "╘═══════════════════╧═════════════════╧═════════════════╧═════════╧══════════╛\n"
     ]
    }
   ],
   "source": [
    "min_player_results = experiment(2, 10000, 2, [5])\n",
    "print(tabulate(min_player_results, headers=\"keys\", tablefmt=\"fancy_grid\"))"
   ]
  }
 ],
 "metadata": {
  "kernelspec": {
   "display_name": "Python 3",
   "language": "python",
   "name": "python3"
  },
  "language_info": {
   "codemirror_mode": {
    "name": "ipython",
    "version": 3
   },
   "file_extension": ".py",
   "mimetype": "text/x-python",
   "name": "python",
   "nbconvert_exporter": "python",
   "pygments_lexer": "ipython3",
   "version": "3.10.12"
  }
 },
 "nbformat": 4,
 "nbformat_minor": 2
}
