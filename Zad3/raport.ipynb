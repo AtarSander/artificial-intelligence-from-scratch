{
 "cells": [
  {
   "cell_type": "markdown",
   "metadata": {},
   "source": [
    "# Raport z zadania dwuosobowe gry deterministyczne\n",
    "### Aleksander Szymczyk\n",
    "### Import bibliotek"
   ]
  },
  {
   "cell_type": "code",
   "execution_count": 1,
   "metadata": {},
   "outputs": [],
   "source": [
    "import sys\n",
    "sys.path.append(\"two-player-games\")\n",
    "from experiment import experiment, Option\n",
    "from tabulate import tabulate"
   ]
  },
  {
   "cell_type": "markdown",
   "metadata": {},
   "source": [
    "## Rezultaty rozgrywki w przypadku losowych ruchów obydwu graczy"
   ]
  },
  {
   "cell_type": "code",
   "execution_count": 2,
   "metadata": {},
   "outputs": [
    {
     "name": "stdout",
     "output_type": "stream",
     "text": [
      "╒═════════════════╤═════════════════╤═════════╤═══════════════════╕\n",
      "│   Player 1 wins │   Player 2 wins │   Draws │   Number of games │\n",
      "╞═════════════════╪═════════════════╪═════════╪═══════════════════╡\n",
      "│             573 │             426 │       1 │              1000 │\n",
      "╘═════════════════╧═════════════════╧═════════╧═══════════════════╛\n"
     ]
    }
   ],
   "source": [
    "random_results = experiment(Option.RAND_VS_RAND.value, 1000)\n",
    "print(tabulate(random_results, headers=\"keys\", tablefmt=\"fancy_grid\"))"
   ]
  },
  {
   "cell_type": "markdown",
   "metadata": {},
   "source": [
    "Jak widać kolejność ruchów ma niewielki wpływ na wynik. Zawodnik rozpoczynający rozgrywkę ma delikatną przewagę.\n",
    "# Cel eksperymentów\n",
    "Algorytm alpha-beta został przetestowany na 1000 rozgrywek dla trzech wariantów graczy:\n",
    "- gracz algorytm vs gracz losowy\n",
    "- gracz losowy vs gracz algorytm\n",
    "- gracz algorytm vs gracz algorytm\n"
   ]
  },
  {
   "cell_type": "markdown",
   "metadata": {},
   "source": [
    "Oraz dla czterech różnych głębokości przeszukiwania:\n",
    "- głębokość 2\n",
    "- głębokość 3\n",
    "- głębokość 4\n",
    "## Testy dla rozgrywki algorytm alphabeta (player 1) vs gracz losowy"
   ]
  },
  {
   "cell_type": "code",
   "execution_count": 2,
   "metadata": {},
   "outputs": [
    {
     "name": "stdout",
     "output_type": "stream",
     "text": [
      "╒═════════════════╤═════════════════╤═════════╤══════════╤═══════════════════╕\n",
      "│   Player 1 wins │   Player 2 wins │   Draws │   Depths │   Number of games │\n",
      "╞═════════════════╪═════════════════╪═════════╪══════════╪═══════════════════╡\n",
      "│             996 │               4 │       0 │        2 │              1000 │\n",
      "├─────────────────┼─────────────────┼─────────┼──────────┼───────────────────┤\n",
      "│            1000 │               0 │       0 │        3 │              1000 │\n",
      "├─────────────────┼─────────────────┼─────────┼──────────┼───────────────────┤\n",
      "│             997 │               3 │       0 │        4 │              1000 │\n",
      "╘═════════════════╧═════════════════╧═════════╧══════════╧═══════════════════╛\n"
     ]
    }
   ],
   "source": [
    "results = experiment(Option.ALGO_VS_RAND.value, 1000, [2, 3, 4])\n",
    "print(tabulate(results, headers=\"keys\", tablefmt=\"fancy_grid\"))"
   ]
  },
  {
   "cell_type": "markdown",
   "metadata": {},
   "source": [
    "## Testy dla rozgrywki gracz losowy vs alogrytm alphabeta (player 2)"
   ]
  },
  {
   "cell_type": "code",
   "execution_count": 4,
   "metadata": {},
   "outputs": [
    {
     "ename": "KeyboardInterrupt",
     "evalue": "",
     "output_type": "error",
     "traceback": [
      "\u001b[0;31m---------------------------------------------------------------------------\u001b[0m",
      "\u001b[0;31mKeyboardInterrupt\u001b[0m                         Traceback (most recent call last)",
      "\u001b[1;32m/home/atarsander/WSI/szymczyk_aleksander_wsi23z/Zad3/raport.ipynb Cell 9\u001b[0m line \u001b[0;36m1\n\u001b[0;32m----> <a href='vscode-notebook-cell://wsl%2Bubuntu/home/atarsander/WSI/szymczyk_aleksander_wsi23z/Zad3/raport.ipynb#X13sdnNjb2RlLXJlbW90ZQ%3D%3D?line=0'>1</a>\u001b[0m results \u001b[39m=\u001b[39m experiment(Option\u001b[39m.\u001b[39;49mRAND_VS_ALGO, \u001b[39m1000\u001b[39;49m, [\u001b[39m2\u001b[39;49m, \u001b[39m3\u001b[39;49m, \u001b[39m4\u001b[39;49m])\n\u001b[1;32m      <a href='vscode-notebook-cell://wsl%2Bubuntu/home/atarsander/WSI/szymczyk_aleksander_wsi23z/Zad3/raport.ipynb#X13sdnNjb2RlLXJlbW90ZQ%3D%3D?line=1'>2</a>\u001b[0m \u001b[39mprint\u001b[39m(tabulate(results, headers\u001b[39m=\u001b[39m\u001b[39m\"\u001b[39m\u001b[39mkeys\u001b[39m\u001b[39m\"\u001b[39m, tablefmt\u001b[39m=\u001b[39m\u001b[39m\"\u001b[39m\u001b[39mfancy_grid\u001b[39m\u001b[39m\"\u001b[39m))\n",
      "File \u001b[0;32m~/WSI/szymczyk_aleksander_wsi23z/Zad3/experiment.py:58\u001b[0m, in \u001b[0;36mexperiment\u001b[0;34m(option, games_num, depths)\u001b[0m\n\u001b[1;32m     55\u001b[0m game \u001b[39m=\u001b[39m ConnectFour()\n\u001b[1;32m     56\u001b[0m ab_player \u001b[39m=\u001b[39m Alphabeta(depth)\n\u001b[0;32m---> 58\u001b[0m winner \u001b[39m=\u001b[39m ab_game(game, ab_player, option, depth)\n\u001b[1;32m     60\u001b[0m \u001b[39mif\u001b[39;00m winner \u001b[39mis\u001b[39;00m \u001b[39mNone\u001b[39;00m:\n\u001b[1;32m     61\u001b[0m     draws \u001b[39m+\u001b[39m\u001b[39m=\u001b[39m \u001b[39m1\u001b[39m\n",
      "File \u001b[0;32m~/WSI/szymczyk_aleksander_wsi23z/Zad3/experiment.py:135\u001b[0m, in \u001b[0;36mab_game\u001b[0;34m(game, ab_player, who, depth, depth2)\u001b[0m\n\u001b[1;32m    133\u001b[0m     game\u001b[39m.\u001b[39mmake_move(move_rand)\n\u001b[1;32m    134\u001b[0m     \u001b[39mif\u001b[39;00m \u001b[39mnot\u001b[39;00m game\u001b[39m.\u001b[39mis_finished():\n\u001b[0;32m--> 135\u001b[0m         move_ab \u001b[39m=\u001b[39m ab_player\u001b[39m.\u001b[39;49msolve(game, depth, \u001b[39m-\u001b[39;49mnp\u001b[39m.\u001b[39;49minf, np\u001b[39m.\u001b[39;49minf, max_player)[\u001b[39m0\u001b[39m]\n\u001b[1;32m    136\u001b[0m         game\u001b[39m.\u001b[39mmake_move(move_ab)\n\u001b[1;32m    137\u001b[0m winner \u001b[39m=\u001b[39m game\u001b[39m.\u001b[39mget_winner()\n",
      "File \u001b[0;32m~/WSI/szymczyk_aleksander_wsi23z/Zad3/alphabeta.py:69\u001b[0m, in \u001b[0;36mAlphabeta.solve\u001b[0;34m(self, game, depth, alpha, beta, maximizing_player)\u001b[0m\n\u001b[1;32m     67\u001b[0m copy_game \u001b[39m=\u001b[39m copy\u001b[39m.\u001b[39mdeepcopy(game)\n\u001b[1;32m     68\u001b[0m game\u001b[39m.\u001b[39mmake_move(move)\n\u001b[0;32m---> 69\u001b[0m value \u001b[39m=\u001b[39m \u001b[39mself\u001b[39;49m\u001b[39m.\u001b[39;49msolve(game, depth\u001b[39m-\u001b[39;49m\u001b[39m1\u001b[39;49m, alpha, beta, maximizing_player)[\u001b[39m1\u001b[39m]\n\u001b[1;32m     70\u001b[0m game \u001b[39m=\u001b[39m copy_game\n\u001b[1;32m     71\u001b[0m \u001b[39mif\u001b[39;00m value \u001b[39m<\u001b[39m min_value:\n",
      "File \u001b[0;32m~/WSI/szymczyk_aleksander_wsi23z/Zad3/alphabeta.py:51\u001b[0m, in \u001b[0;36mAlphabeta.solve\u001b[0;34m(self, game, depth, alpha, beta, maximizing_player)\u001b[0m\n\u001b[1;32m     49\u001b[0m copy_game \u001b[39m=\u001b[39m copy\u001b[39m.\u001b[39mdeepcopy(game)\n\u001b[1;32m     50\u001b[0m game\u001b[39m.\u001b[39mmake_move(move)\n\u001b[0;32m---> 51\u001b[0m value \u001b[39m=\u001b[39m \u001b[39mself\u001b[39;49m\u001b[39m.\u001b[39;49msolve(game, depth\u001b[39m-\u001b[39;49m\u001b[39m1\u001b[39;49m, alpha, beta, maximizing_player)[\u001b[39m1\u001b[39m]\n\u001b[1;32m     52\u001b[0m game \u001b[39m=\u001b[39m copy_game\n\u001b[1;32m     53\u001b[0m \u001b[39mif\u001b[39;00m value \u001b[39m>\u001b[39m max_value:\n",
      "File \u001b[0;32m~/WSI/szymczyk_aleksander_wsi23z/Zad3/alphabeta.py:69\u001b[0m, in \u001b[0;36mAlphabeta.solve\u001b[0;34m(self, game, depth, alpha, beta, maximizing_player)\u001b[0m\n\u001b[1;32m     67\u001b[0m copy_game \u001b[39m=\u001b[39m copy\u001b[39m.\u001b[39mdeepcopy(game)\n\u001b[1;32m     68\u001b[0m game\u001b[39m.\u001b[39mmake_move(move)\n\u001b[0;32m---> 69\u001b[0m value \u001b[39m=\u001b[39m \u001b[39mself\u001b[39;49m\u001b[39m.\u001b[39;49msolve(game, depth\u001b[39m-\u001b[39;49m\u001b[39m1\u001b[39;49m, alpha, beta, maximizing_player)[\u001b[39m1\u001b[39m]\n\u001b[1;32m     70\u001b[0m game \u001b[39m=\u001b[39m copy_game\n\u001b[1;32m     71\u001b[0m \u001b[39mif\u001b[39;00m value \u001b[39m<\u001b[39m min_value:\n",
      "File \u001b[0;32m~/WSI/szymczyk_aleksander_wsi23z/Zad3/alphabeta.py:43\u001b[0m, in \u001b[0;36mAlphabeta.solve\u001b[0;34m(self, game, depth, alpha, beta, maximizing_player)\u001b[0m\n\u001b[1;32m     41\u001b[0m         \u001b[39mreturn\u001b[39;00m \u001b[39mNone\u001b[39;00m, \u001b[39m-\u001b[39mnp\u001b[39m.\u001b[39minf\n\u001b[1;32m     42\u001b[0m \u001b[39mif\u001b[39;00m depth \u001b[39m==\u001b[39m \u001b[39m0\u001b[39m:\n\u001b[0;32m---> 43\u001b[0m     \u001b[39mreturn\u001b[39;00m \u001b[39mNone\u001b[39;00m, heuristic(game\u001b[39m.\u001b[39;49mstate\u001b[39m.\u001b[39;49mfields, maximizing_player)\n\u001b[1;32m     45\u001b[0m \u001b[39mif\u001b[39;00m maximizing_player\u001b[39m.\u001b[39mchar \u001b[39m==\u001b[39m game\u001b[39m.\u001b[39mget_current_player()\u001b[39m.\u001b[39mchar:\n\u001b[1;32m     46\u001b[0m     max_value \u001b[39m=\u001b[39m \u001b[39m-\u001b[39mnp\u001b[39m.\u001b[39minf\n",
      "File \u001b[0;32m~/WSI/szymczyk_aleksander_wsi23z/Zad3/heuristic.py:32\u001b[0m, in \u001b[0;36mheuristic\u001b[0;34m(fields, maximizing_player)\u001b[0m\n\u001b[1;32m     30\u001b[0m \u001b[39mfor\u001b[39;00m start_column_id \u001b[39min\u001b[39;00m \u001b[39mrange\u001b[39m(\u001b[39mlen\u001b[39m(fields) \u001b[39m-\u001b[39m \u001b[39m3\u001b[39m):  \u001b[39m# diagonals\u001b[39;00m\n\u001b[1;32m     31\u001b[0m     \u001b[39mfor\u001b[39;00m start_row_id \u001b[39min\u001b[39;00m \u001b[39mrange\u001b[39m(\u001b[39mlen\u001b[39m(fields[start_column_id]) \u001b[39m-\u001b[39m \u001b[39m3\u001b[39m):\n\u001b[0;32m---> 32\u001b[0m         points_dict \u001b[39m=\u001b[39m count_lines(fields, (start_column_id, start_row_id), (\u001b[39m1\u001b[39;49m, \u001b[39m1\u001b[39;49m))\n\u001b[1;32m     33\u001b[0m         \u001b[39mif\u001b[39;00m \u001b[39mlen\u001b[39m(points_dict) \u001b[39m==\u001b[39m \u001b[39m1\u001b[39m:\n\u001b[1;32m     34\u001b[0m             \u001b[39mif\u001b[39;00m maximizing_player\u001b[39m.\u001b[39mchar \u001b[39min\u001b[39;00m points_dict:\n",
      "File \u001b[0;32m~/WSI/szymczyk_aleksander_wsi23z/Zad3/heuristic.py:58\u001b[0m, in \u001b[0;36mcount_lines\u001b[0;34m(fields, start_coords, move_coords)\u001b[0m\n\u001b[1;32m     56\u001b[0m col_index \u001b[39m=\u001b[39m start_coords[\u001b[39m1\u001b[39m] \u001b[39m+\u001b[39m move_coords[\u001b[39m1\u001b[39m] \u001b[39m*\u001b[39m i\n\u001b[1;32m     57\u001b[0m field_value \u001b[39m=\u001b[39m fields[row_index][col_index]\n\u001b[0;32m---> 58\u001b[0m \u001b[39mif\u001b[39;00m field_value \u001b[39mis\u001b[39;00m \u001b[39mnot\u001b[39;00m \u001b[39mNone\u001b[39;00m:\n\u001b[1;32m     59\u001b[0m     \u001b[39mif\u001b[39;00m prev_field_value \u001b[39mis\u001b[39;00m \u001b[39mNone\u001b[39;00m:\n\u001b[1;32m     60\u001b[0m         points[field_value\u001b[39m.\u001b[39mchar] \u001b[39m=\u001b[39m points\u001b[39m.\u001b[39mget(field_value\u001b[39m.\u001b[39mchar, \u001b[39m0\u001b[39m) \u001b[39m+\u001b[39m \u001b[39m1\u001b[39m\n",
      "\u001b[0;31mKeyboardInterrupt\u001b[0m: "
     ]
    }
   ],
   "source": [
    "results = experiment(Option.RAND_VS_ALGO, 1000, [2, 3, 4])\n",
    "print(tabulate(results, headers=\"keys\", tablefmt=\"fancy_grid\"))"
   ]
  },
  {
   "cell_type": "markdown",
   "metadata": {},
   "source": [
    "## Test dla rozgrywki algorytm vs algorytm (dla wszystkich kombinacji głębokości)"
   ]
  },
  {
   "cell_type": "code",
   "execution_count": null,
   "metadata": {},
   "outputs": [],
   "source": [
    "results = experiment(Option.ALGO_VS_ALGO, 100, [2, 3, 4, 5])\n",
    "print(tabulate(results, headers=\"keys\", tablefmt=\"fancy_grid\"))"
   ]
  },
  {
   "cell_type": "markdown",
   "metadata": {},
   "source": [
    "# Wyniki\n",
    "\n",
    "# Wnioski"
   ]
  }
 ],
 "metadata": {
  "kernelspec": {
   "display_name": "Python 3",
   "language": "python",
   "name": "python3"
  },
  "language_info": {
   "codemirror_mode": {
    "name": "ipython",
    "version": 3
   },
   "file_extension": ".py",
   "mimetype": "text/x-python",
   "name": "python",
   "nbconvert_exporter": "python",
   "pygments_lexer": "ipython3",
   "version": "3.10.12"
  }
 },
 "nbformat": 4,
 "nbformat_minor": 2
}
