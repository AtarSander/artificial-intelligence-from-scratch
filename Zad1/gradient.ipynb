{
 "cells": [
  {
   "cell_type": "code",
   "execution_count": 2,
   "metadata": {},
   "outputs": [],
   "source": [
    "import numpy as np\n",
    "from abc import ABC, abstractmethod"
   ]
  },
  {
   "cell_type": "code",
   "execution_count": 3,
   "metadata": {},
   "outputs": [],
   "source": [
    "class Solver(ABC):\n",
    "    \"\"\"A solver. It may be initialized with some hyperparameters.\"\"\"\n",
    "\n",
    "    @abstractmethod\n",
    "    def get_parameters(self):\n",
    "        \"\"\"Returns a dictionary of hyperparameters\"\"\"\n",
    "        ...\n",
    "\n",
    "    @abstractmethod\n",
    "    def solve(self, problem, x0, *args, **kwargs):\n",
    "        \"\"\"\n",
    "        A method that solves the given problem for given initial solution.\n",
    "        It may accept or require additional parameters.\n",
    "        Returns the solution and may return additional info.\n",
    "        \"\"\"\n",
    "\n"
   ]
  },
  {
   "cell_type": "code",
   "execution_count": 19,
   "metadata": {},
   "outputs": [],
   "source": [
    "class GradientDescent(Solver):\n",
    "    def __init__(self, beta, iterations):\n",
    "        self.beta = beta\n",
    "        self.iterations = iterations\n",
    "\n",
    "    def get_parameters(self):\n",
    "        dict = {}\n",
    "        dict[\"Beta\"] = self.beta\n",
    "        dict[\"Iterations\"] = self.iterations\n",
    "        return dict\n",
    "    \n",
    "    def solve(self, problem, x0):\n",
    "        while self.iterations > 0:\n",
    "           self.iterations -= 1\n",
    "           d = problem(x0)\n",
    "           x0 = np.subtract(x0, d * self.beta)\n",
    "           print(x0, d)\n",
    "        return x0\n",
    "    \n",
    "    def gradient_f1(self, x):\n",
    "        return x**3\n",
    "    \n",
    "    def gradient_f2(self, x0):\n",
    "        x1, x2 = x0\n",
    "        return np.array(2 * x1 * np.exp(-x1**2 - x2**2) + (x1-1) * np.exp(-(x1-1)**2 - (x2-1)**2),\n",
    "                        2 * x2 * np.exp(-x1**2 - x2**2) + (x2-1) * np.exp(-(x1-1)**2 - (x2-1)**2))"
   ]
  },
  {
   "cell_type": "code",
   "execution_count": 20,
   "metadata": {},
   "outputs": [
    {
     "ename": "TypeError",
     "evalue": "GradientDescent.solve() takes 3 positional arguments but 5 were given",
     "output_type": "error",
     "traceback": [
      "\u001b[0;31m---------------------------------------------------------------------------\u001b[0m",
      "\u001b[0;31mTypeError\u001b[0m                                 Traceback (most recent call last)",
      "\u001b[1;32m/root/WSI/szymczyk_aleksander_wsi23z/Zad1/gradient.ipynb Cell 4\u001b[0m in \u001b[0;36m2\n\u001b[1;32m      <a href='vscode-notebook-cell://wsl%2Bubuntu/root/WSI/szymczyk_aleksander_wsi23z/Zad1/gradient.ipynb#W3sdnNjb2RlLXJlbW90ZQ%3D%3D?line=0'>1</a>\u001b[0m a \u001b[39m=\u001b[39m GradientDescent(\u001b[39m0.01\u001b[39m, \u001b[39m10000\u001b[39m)\n\u001b[0;32m----> <a href='vscode-notebook-cell://wsl%2Bubuntu/root/WSI/szymczyk_aleksander_wsi23z/Zad1/gradient.ipynb#W3sdnNjb2RlLXJlbW90ZQ%3D%3D?line=1'>2</a>\u001b[0m a\u001b[39m.\u001b[39;49msolve(a\u001b[39m.\u001b[39;49mgradient_f2, (\u001b[39m2.15\u001b[39;49m, \u001b[39m3.19\u001b[39;49m), \u001b[39m0.04\u001b[39;49m, \u001b[39m10000\u001b[39;49m)\n",
      "\u001b[0;31mTypeError\u001b[0m: GradientDescent.solve() takes 3 positional arguments but 5 were given"
     ]
    }
   ],
   "source": [
    "a = GradientDescent(0.07, 10000)\n",
    "a.solve(a.gradient_f2, (2.15, 3.19))"
   ]
  }
 ],
 "metadata": {
  "kernelspec": {
   "display_name": "bootcamp_env",
   "language": "python",
   "name": "bootcamp_env"
  },
  "language_info": {
   "codemirror_mode": {
    "name": "ipython",
    "version": 3
   },
   "file_extension": ".py",
   "mimetype": "text/x-python",
   "name": "python",
   "nbconvert_exporter": "python",
   "pygments_lexer": "ipython3",
   "version": "3.10.6"
  },
  "orig_nbformat": 4
 },
 "nbformat": 4,
 "nbformat_minor": 2
}
