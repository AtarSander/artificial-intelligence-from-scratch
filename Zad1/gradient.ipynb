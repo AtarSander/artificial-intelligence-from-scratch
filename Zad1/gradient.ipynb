{
 "cells": [
  {
   "cell_type": "code",
   "execution_count": 1,
   "metadata": {},
   "outputs": [],
   "source": [
    "import numpy as np\n",
    "from abc import ABC, abstractmethod"
   ]
  },
  {
   "cell_type": "code",
   "execution_count": 7,
   "metadata": {},
   "outputs": [],
   "source": [
    "class Solver(ABC):\n",
    "    \"\"\"A solver. It may be initialized with some hyperparameters.\"\"\"\n",
    "\n",
    "    @abstractmethod\n",
    "    def get_parameters(self):\n",
    "        \"\"\"Returns a dictionary of hyperparameters\"\"\"\n",
    "        ...\n",
    "\n",
    "    @abstractmethod\n",
    "    def solve(self, problem, x0, *args, **kwargs):\n",
    "        \"\"\"\n",
    "        A method that solves the given problem for given initial solution.\n",
    "        It may accept or require additional parameters.\n",
    "        Returns the solution and may return additional info.\n",
    "        \"\"\"\n",
    "\n"
   ]
  },
  {
   "cell_type": "code",
   "execution_count": 37,
   "metadata": {},
   "outputs": [],
   "source": [
    "class GradientDescent(Solver):\n",
    "    def __init__(self, beta, iterations):\n",
    "        self.beta = beta\n",
    "        self.iterations = iterations\n",
    "\n",
    "    def get_parameters(self):\n",
    "        dict = {}\n",
    "        dict[\"Beta\"] = self.beta\n",
    "        dict[\"Iterations\"] = self.iterations\n",
    "        return dict\n",
    "    \n",
    "    def solve(self, problem, x0, beta, iterations):\n",
    "        while iterations > 0:\n",
    "           iterations -= 1\n",
    "           d = problem(x0)\n",
    "           x0 = np.subtract(x0, d * beta)\n",
    "        return x0\n",
    "    \n",
    "    def gradient_f1(self, x):\n",
    "        return x**3\n",
    "    \n",
    "    def gradient_f2(self, x0):\n",
    "        x1, x2 = x0\n",
    "        return np.array(2 * x1 * np.exp(-x1**2 - x2**2) + (x1-1) * np.exp(-(x1-1)**2 - (x2-1)**2),\n",
    "                        2 * x2 * np.exp(-x1**2 - x2**2) + (x2-1) * np.exp(-(x1-1)**2 - (x2-1)**2))"
   ]
  },
  {
   "cell_type": "code",
   "execution_count": 39,
   "metadata": {},
   "outputs": [
    {
     "data": {
      "text/plain": [
       "array([ 0.00470541, -1.33529459])"
      ]
     },
     "execution_count": 39,
     "metadata": {},
     "output_type": "execute_result"
    }
   ],
   "source": [
    "a = GradientDescent(0.01, 10000)\n",
    "a.solve(a.gradient_f2, (2.49, 1.15), 0.04, 10000)"
   ]
  }
 ],
 "metadata": {
  "kernelspec": {
   "display_name": "bootcamp_env",
   "language": "python",
   "name": "bootcamp_env"
  },
  "language_info": {
   "codemirror_mode": {
    "name": "ipython",
    "version": 3
   },
   "file_extension": ".py",
   "mimetype": "text/x-python",
   "name": "python",
   "nbconvert_exporter": "python",
   "pygments_lexer": "ipython3",
   "version": "3.10.6"
  },
  "orig_nbformat": 4
 },
 "nbformat": 4,
 "nbformat_minor": 2
}
