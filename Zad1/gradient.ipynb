{
 "cells": [
  {
   "cell_type": "code",
   "execution_count": 1,
   "metadata": {},
   "outputs": [],
   "source": [
    "import numpy as np\n",
    "import matplotlib.pyplot as plt\n",
    "from abc import ABC, abstractmethod"
   ]
  },
  {
   "cell_type": "code",
   "execution_count": 2,
   "metadata": {},
   "outputs": [],
   "source": [
    "class Solver(ABC):\n",
    "    \"\"\"A solver. It may be initialized with some hyperparameters.\"\"\"\n",
    "\n",
    "    @abstractmethod\n",
    "    def get_parameters(self):\n",
    "        \"\"\"Returns a dictionary of hyperparameters\"\"\"\n",
    "        ...\n",
    "\n",
    "    @abstractmethod\n",
    "    def solve(self, problem, x0, *args, **kwargs):\n",
    "        \"\"\"\n",
    "        A method that solves the given problem for given initial solution.\n",
    "        It may accept or require additional parameters.\n",
    "        Returns the solution and may return additional info.\n",
    "        \"\"\"\n",
    "\n"
   ]
  },
  {
   "cell_type": "code",
   "execution_count": 18,
   "metadata": {},
   "outputs": [],
   "source": [
    "class GradientDescent(Solver):\n",
    "    def __init__(self, beta, iterations):\n",
    "        self.beta = beta\n",
    "        self.iterations = iterations\n",
    "\n",
    "    def get_parameters(self):\n",
    "        dict = {}\n",
    "        dict[\"Beta\"] = self.beta\n",
    "        dict[\"Iterations\"] = self.iterations\n",
    "        return dict\n",
    "    \n",
    "    def solve(self, problem, x0):\n",
    "        while self.iterations > 0:\n",
    "           self.iterations -= 1\n",
    "           d = problem(x0)\n",
    "           x0 = np.subtract(x0, d * self.beta)\n",
    "        #    print(x0, d)\n",
    "        return x0\n",
    "    \n",
    "    @staticmethod\n",
    "    def gradient_f1(x):\n",
    "        return x**3\n",
    "    \n",
    "    @staticmethod\n",
    "    def gradient_f2(x0):\n",
    "        x1, x2 = x0\n",
    "        return np.array(2 * x1 * np.exp(-x1**2 - x2**2) + (x1-1) * np.exp(-(x1 - 1)**2 - (x2 - 1)**2),\n",
    "                        2 * x2 * np.exp(-x1**2 - x2**2) + (x2-1) * np.exp(-(x1 - 1)**2 - (x2 - 1)**2))\n",
    "    \n",
    "    @staticmethod\n",
    "    def f1(x):\n",
    "        return 1/4 * x**4\n",
    "    \n",
    "    @staticmethod\n",
    "    def f2(x):\n",
    "        x1, x2 = x\n",
    "        return 1.5 - np.exp(-x1**2 - x2**2) - 0.5 * np.exp(-(x1 - 1)**2 - (x2 + 2)**2)\n",
    "    "
   ]
  },
  {
   "cell_type": "code",
   "execution_count": 19,
   "metadata": {},
   "outputs": [
    {
     "ename": "TypeError",
     "evalue": "cannot unpack non-iterable numpy.float64 object",
     "output_type": "error",
     "traceback": [
      "\u001b[0;31m---------------------------------------------------------------------------\u001b[0m",
      "\u001b[0;31mTypeError\u001b[0m                                 Traceback (most recent call last)",
      "\u001b[1;32m/root/WSI/szymczyk_aleksander_wsi23z/Zad1/gradient.ipynb Cell 5\u001b[0m in \u001b[0;36m3\n\u001b[1;32m      <a href='vscode-notebook-cell://wsl%2Bubuntu/root/WSI/szymczyk_aleksander_wsi23z/Zad1/gradient.ipynb#W3sdnNjb2RlLXJlbW90ZQ%3D%3D?line=0'>1</a>\u001b[0m a \u001b[39m=\u001b[39m GradientDescent(\u001b[39m0.07\u001b[39m, \u001b[39m10000\u001b[39m)\n\u001b[1;32m      <a href='vscode-notebook-cell://wsl%2Bubuntu/root/WSI/szymczyk_aleksander_wsi23z/Zad1/gradient.ipynb#W3sdnNjb2RlLXJlbW90ZQ%3D%3D?line=1'>2</a>\u001b[0m a\u001b[39m.\u001b[39msolve(a\u001b[39m.\u001b[39mgradient_f2, (\u001b[39m2.15\u001b[39m, \u001b[39m3.19\u001b[39m))\n\u001b[0;32m----> <a href='vscode-notebook-cell://wsl%2Bubuntu/root/WSI/szymczyk_aleksander_wsi23z/Zad1/gradient.ipynb#W3sdnNjb2RlLXJlbW90ZQ%3D%3D?line=2'>3</a>\u001b[0m plotter(a\u001b[39m.\u001b[39;49mf2, title\u001b[39m=\u001b[39;49m\u001b[39m\"\u001b[39;49m\u001b[39m$f(x) = \u001b[39;49m\u001b[39m\\\\\u001b[39;49;00m\u001b[39mfrac\u001b[39;49m\u001b[39m{1}\u001b[39;49;00m\u001b[39m{4}\u001b[39;49;00m\u001b[39mx^4$\u001b[39;49m\u001b[39m\"\u001b[39;49m, y_label\u001b[39m=\u001b[39;49m\u001b[39m'\u001b[39;49m\u001b[39mf(x)\u001b[39;49m\u001b[39m'\u001b[39;49m)\n",
      "\u001b[1;32m/root/WSI/szymczyk_aleksander_wsi23z/Zad1/gradient.ipynb Cell 5\u001b[0m in \u001b[0;36m4\n\u001b[1;32m      <a href='vscode-notebook-cell://wsl%2Bubuntu/root/WSI/szymczyk_aleksander_wsi23z/Zad1/gradient.ipynb#W3sdnNjb2RlLXJlbW90ZQ%3D%3D?line=1'>2</a>\u001b[0m x \u001b[39m=\u001b[39m np\u001b[39m.\u001b[39mlinspace(x_range[\u001b[39m0\u001b[39m], x_range[\u001b[39m1\u001b[39m], num_points)\n\u001b[1;32m      <a href='vscode-notebook-cell://wsl%2Bubuntu/root/WSI/szymczyk_aleksander_wsi23z/Zad1/gradient.ipynb#W3sdnNjb2RlLXJlbW90ZQ%3D%3D?line=2'>3</a>\u001b[0m func_vectorized \u001b[39m=\u001b[39m np\u001b[39m.\u001b[39mvectorize(func)\n\u001b[0;32m----> <a href='vscode-notebook-cell://wsl%2Bubuntu/root/WSI/szymczyk_aleksander_wsi23z/Zad1/gradient.ipynb#W3sdnNjb2RlLXJlbW90ZQ%3D%3D?line=3'>4</a>\u001b[0m y \u001b[39m=\u001b[39m func_vectorized(x)\n\u001b[1;32m      <a href='vscode-notebook-cell://wsl%2Bubuntu/root/WSI/szymczyk_aleksander_wsi23z/Zad1/gradient.ipynb#W3sdnNjb2RlLXJlbW90ZQ%3D%3D?line=4'>5</a>\u001b[0m plt\u001b[39m.\u001b[39mplot(x, y)\n\u001b[1;32m      <a href='vscode-notebook-cell://wsl%2Bubuntu/root/WSI/szymczyk_aleksander_wsi23z/Zad1/gradient.ipynb#W3sdnNjb2RlLXJlbW90ZQ%3D%3D?line=5'>6</a>\u001b[0m plt\u001b[39m.\u001b[39mxlabel(x_label)\n",
      "File \u001b[0;32m~/Golem2022/BootcampGeneral/2022/bootcamp_env/lib/python3.10/site-packages/numpy/lib/function_base.py:2328\u001b[0m, in \u001b[0;36mvectorize.__call__\u001b[0;34m(self, *args, **kwargs)\u001b[0m\n\u001b[1;32m   2325\u001b[0m     vargs \u001b[39m=\u001b[39m [args[_i] \u001b[39mfor\u001b[39;00m _i \u001b[39min\u001b[39;00m inds]\n\u001b[1;32m   2326\u001b[0m     vargs\u001b[39m.\u001b[39mextend([kwargs[_n] \u001b[39mfor\u001b[39;00m _n \u001b[39min\u001b[39;00m names])\n\u001b[0;32m-> 2328\u001b[0m \u001b[39mreturn\u001b[39;00m \u001b[39mself\u001b[39;49m\u001b[39m.\u001b[39;49m_vectorize_call(func\u001b[39m=\u001b[39;49mfunc, args\u001b[39m=\u001b[39;49mvargs)\n",
      "File \u001b[0;32m~/Golem2022/BootcampGeneral/2022/bootcamp_env/lib/python3.10/site-packages/numpy/lib/function_base.py:2406\u001b[0m, in \u001b[0;36mvectorize._vectorize_call\u001b[0;34m(self, func, args)\u001b[0m\n\u001b[1;32m   2404\u001b[0m     res \u001b[39m=\u001b[39m func()\n\u001b[1;32m   2405\u001b[0m \u001b[39melse\u001b[39;00m:\n\u001b[0;32m-> 2406\u001b[0m     ufunc, otypes \u001b[39m=\u001b[39m \u001b[39mself\u001b[39;49m\u001b[39m.\u001b[39;49m_get_ufunc_and_otypes(func\u001b[39m=\u001b[39;49mfunc, args\u001b[39m=\u001b[39;49margs)\n\u001b[1;32m   2408\u001b[0m     \u001b[39m# Convert args to object arrays first\u001b[39;00m\n\u001b[1;32m   2409\u001b[0m     inputs \u001b[39m=\u001b[39m [asanyarray(a, dtype\u001b[39m=\u001b[39m\u001b[39mobject\u001b[39m) \u001b[39mfor\u001b[39;00m a \u001b[39min\u001b[39;00m args]\n",
      "File \u001b[0;32m~/Golem2022/BootcampGeneral/2022/bootcamp_env/lib/python3.10/site-packages/numpy/lib/function_base.py:2366\u001b[0m, in \u001b[0;36mvectorize._get_ufunc_and_otypes\u001b[0;34m(self, func, args)\u001b[0m\n\u001b[1;32m   2362\u001b[0m     \u001b[39mraise\u001b[39;00m \u001b[39mValueError\u001b[39;00m(\u001b[39m'\u001b[39m\u001b[39mcannot call `vectorize` on size 0 inputs \u001b[39m\u001b[39m'\u001b[39m\n\u001b[1;32m   2363\u001b[0m                      \u001b[39m'\u001b[39m\u001b[39munless `otypes` is set\u001b[39m\u001b[39m'\u001b[39m)\n\u001b[1;32m   2365\u001b[0m inputs \u001b[39m=\u001b[39m [arg\u001b[39m.\u001b[39mflat[\u001b[39m0\u001b[39m] \u001b[39mfor\u001b[39;00m arg \u001b[39min\u001b[39;00m args]\n\u001b[0;32m-> 2366\u001b[0m outputs \u001b[39m=\u001b[39m func(\u001b[39m*\u001b[39;49minputs)\n\u001b[1;32m   2368\u001b[0m \u001b[39m# Performance note: profiling indicates that -- for simple\u001b[39;00m\n\u001b[1;32m   2369\u001b[0m \u001b[39m# functions at least -- this wrapping can almost double the\u001b[39;00m\n\u001b[1;32m   2370\u001b[0m \u001b[39m# execution time.\u001b[39;00m\n\u001b[1;32m   2371\u001b[0m \u001b[39m# Hence we make it optional.\u001b[39;00m\n\u001b[1;32m   2372\u001b[0m \u001b[39mif\u001b[39;00m \u001b[39mself\u001b[39m\u001b[39m.\u001b[39mcache:\n",
      "\u001b[1;32m/root/WSI/szymczyk_aleksander_wsi23z/Zad1/gradient.ipynb Cell 5\u001b[0m in \u001b[0;36m3\n\u001b[1;32m     <a href='vscode-notebook-cell://wsl%2Bubuntu/root/WSI/szymczyk_aleksander_wsi23z/Zad1/gradient.ipynb#W3sdnNjb2RlLXJlbW90ZQ%3D%3D?line=33'>34</a>\u001b[0m \u001b[39m@staticmethod\u001b[39m\n\u001b[1;32m     <a href='vscode-notebook-cell://wsl%2Bubuntu/root/WSI/szymczyk_aleksander_wsi23z/Zad1/gradient.ipynb#W3sdnNjb2RlLXJlbW90ZQ%3D%3D?line=34'>35</a>\u001b[0m \u001b[39mdef\u001b[39;00m \u001b[39mf2\u001b[39m(x):\n\u001b[0;32m---> <a href='vscode-notebook-cell://wsl%2Bubuntu/root/WSI/szymczyk_aleksander_wsi23z/Zad1/gradient.ipynb#W3sdnNjb2RlLXJlbW90ZQ%3D%3D?line=35'>36</a>\u001b[0m     x1, x2 \u001b[39m=\u001b[39m x\n\u001b[1;32m     <a href='vscode-notebook-cell://wsl%2Bubuntu/root/WSI/szymczyk_aleksander_wsi23z/Zad1/gradient.ipynb#W3sdnNjb2RlLXJlbW90ZQ%3D%3D?line=36'>37</a>\u001b[0m     \u001b[39mreturn\u001b[39;00m \u001b[39m1.5\u001b[39m \u001b[39m-\u001b[39m np\u001b[39m.\u001b[39mexp(\u001b[39m-\u001b[39mx1\u001b[39m*\u001b[39m\u001b[39m*\u001b[39m\u001b[39m2\u001b[39m \u001b[39m-\u001b[39m x2\u001b[39m*\u001b[39m\u001b[39m*\u001b[39m\u001b[39m2\u001b[39m) \u001b[39m-\u001b[39m \u001b[39m0.5\u001b[39m \u001b[39m*\u001b[39m np\u001b[39m.\u001b[39mexp(\u001b[39m-\u001b[39m(x1 \u001b[39m-\u001b[39m \u001b[39m1\u001b[39m)\u001b[39m*\u001b[39m\u001b[39m*\u001b[39m\u001b[39m2\u001b[39m \u001b[39m-\u001b[39m (x2 \u001b[39m+\u001b[39m \u001b[39m2\u001b[39m)\u001b[39m*\u001b[39m\u001b[39m*\u001b[39m\u001b[39m2\u001b[39m)\n",
      "\u001b[0;31mTypeError\u001b[0m: cannot unpack non-iterable numpy.float64 object"
     ]
    }
   ],
   "source": [
    "a = GradientDescent(0.07, 10000)\n",
    "a.solve(a.gradient_f2, (2.15, 3.19))\n",
    "plotter(a.f2, title=\"$f(x) = \\\\frac{1}{4}x^4$\", y_label='f(x)')"
   ]
  },
  {
   "cell_type": "code",
   "execution_count": null,
   "metadata": {},
   "outputs": [],
   "source": []
  }
 ],
 "metadata": {
  "kernelspec": {
   "display_name": "bootcamp_env",
   "language": "python",
   "name": "bootcamp_env"
  },
  "language_info": {
   "codemirror_mode": {
    "name": "ipython",
    "version": 3
   },
   "file_extension": ".py",
   "mimetype": "text/x-python",
   "name": "python",
   "nbconvert_exporter": "python",
   "pygments_lexer": "ipython3",
   "version": "3.10.6"
  },
  "orig_nbformat": 4
 },
 "nbformat": 4,
 "nbformat_minor": 2
}
